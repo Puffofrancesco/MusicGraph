{
  "cells": [
    {
      "cell_type": "code",
      "execution_count": 48,
      "metadata": {
        "id": "f_Qt2SlgLHDV"
      },
      "outputs": [],
      "source": [
        "#Installing requirements\n",
        "!pip install -q rdflib sparqlwrapper owlrl gdown pandas wikipedia-api openai"
      ]
    },
    {
      "cell_type": "code",
      "execution_count": 49,
      "metadata": {
        "id": "TXaONcfVLONC"
      },
      "outputs": [],
      "source": [
        "#importing libraries\n",
        "import gdown\n",
        "import os\n",
        "import pandas as pd\n",
        "import rdflib\n",
        "from SPARQLWrapper import SPARQLWrapper"
      ]
    },
    {
      "cell_type": "code",
      "execution_count": 50,
      "metadata": {
        "id": "QUw4i-GGLTsO"
      },
      "outputs": [],
      "source": [
        "# create directory for data\n",
        "if not os.path.exists(\"./data/\"):\n",
        "    os.mkdir(\"./data/\")"
      ]
    },
    {
      "cell_type": "code",
      "execution_count": 52,
      "metadata": {
        "colab": {
          "base_uri": "https://localhost:8080/",
          "height": 35
        },
        "id": "peccx8a_LcDG",
        "outputId": "72042364-fd69-4070-bb00-f2e1d7b8c15c"
      },
      "outputs": [
        {
          "data": {
            "application/vnd.google.colaboratory.intrinsic+json": {
              "type": "string"
            },
            "text/plain": [
              "'./data/albumlist.csv'"
            ]
          },
          "execution_count": 52,
          "metadata": {},
          "output_type": "execute_result"
        }
      ],
      "source": [
        "# Download data\n",
        "gdown.download(id=\"1UILSMenvqzFMsIhV6l4ZV1opJpRQZnwC\", output=\"./data/rym_top_5000_all_time.csv\", quiet=True)\n",
        "gdown.download(id=\"1UNJ2iDX-xoWIekSA0ZwoqNOk3eAZjqrp\", output=\"./data/albumlist.csv\", quiet=True)"
      ]
    },
    {
      "cell_type": "code",
      "execution_count": null,
      "metadata": {
        "colab": {
          "base_uri": "https://localhost:8080/",
          "height": 206
        },
        "id": "jadjz6vOLeZ_",
        "outputId": "cdb81f81-75ac-4403-e07c-78f1827b1ead"
      },
      "outputs": [
        {
          "data": {
            "text/html": [
              "\n",
              "  <div id=\"df-46d1329a-0c1a-4630-ab2b-7f5f9e683273\">\n",
              "    <div class=\"colab-df-container\">\n",
              "      <div>\n",
              "<style scoped>\n",
              "    .dataframe tbody tr th:only-of-type {\n",
              "        vertical-align: middle;\n",
              "    }\n",
              "\n",
              "    .dataframe tbody tr th {\n",
              "        vertical-align: top;\n",
              "    }\n",
              "\n",
              "    .dataframe thead th {\n",
              "        text-align: right;\n",
              "    }\n",
              "</style>\n",
              "<table border=\"1\" class=\"dataframe\">\n",
              "  <thead>\n",
              "    <tr style=\"text-align: right;\">\n",
              "      <th></th>\n",
              "      <th>Number</th>\n",
              "      <th>Year</th>\n",
              "      <th>Album</th>\n",
              "      <th>Artist</th>\n",
              "      <th>Genre</th>\n",
              "      <th>Subgenre</th>\n",
              "    </tr>\n",
              "  </thead>\n",
              "  <tbody>\n",
              "    <tr>\n",
              "      <th>0</th>\n",
              "      <td>1</td>\n",
              "      <td>1967</td>\n",
              "      <td>Sgt. Pepper's Lonely Hearts Club Band</td>\n",
              "      <td>The Beatles</td>\n",
              "      <td>Rock</td>\n",
              "      <td>Rock &amp; Roll, Psychedelic Rock</td>\n",
              "    </tr>\n",
              "    <tr>\n",
              "      <th>1</th>\n",
              "      <td>2</td>\n",
              "      <td>1966</td>\n",
              "      <td>Pet Sounds</td>\n",
              "      <td>The Beach Boys</td>\n",
              "      <td>Rock</td>\n",
              "      <td>Pop Rock, Psychedelic Rock</td>\n",
              "    </tr>\n",
              "    <tr>\n",
              "      <th>2</th>\n",
              "      <td>3</td>\n",
              "      <td>1966</td>\n",
              "      <td>Revolver</td>\n",
              "      <td>The Beatles</td>\n",
              "      <td>Rock</td>\n",
              "      <td>Psychedelic Rock, Pop Rock</td>\n",
              "    </tr>\n",
              "    <tr>\n",
              "      <th>3</th>\n",
              "      <td>4</td>\n",
              "      <td>1965</td>\n",
              "      <td>Highway 61 Revisited</td>\n",
              "      <td>Bob Dylan</td>\n",
              "      <td>Rock</td>\n",
              "      <td>Folk Rock, Blues Rock</td>\n",
              "    </tr>\n",
              "    <tr>\n",
              "      <th>4</th>\n",
              "      <td>5</td>\n",
              "      <td>1965</td>\n",
              "      <td>Rubber Soul</td>\n",
              "      <td>The Beatles</td>\n",
              "      <td>Rock, Pop</td>\n",
              "      <td>Pop Rock</td>\n",
              "    </tr>\n",
              "  </tbody>\n",
              "</table>\n",
              "</div>\n",
              "      <button class=\"colab-df-convert\" onclick=\"convertToInteractive('df-46d1329a-0c1a-4630-ab2b-7f5f9e683273')\"\n",
              "              title=\"Convert this dataframe to an interactive table.\"\n",
              "              style=\"display:none;\">\n",
              "        \n",
              "  <svg xmlns=\"http://www.w3.org/2000/svg\" height=\"24px\"viewBox=\"0 0 24 24\"\n",
              "       width=\"24px\">\n",
              "    <path d=\"M0 0h24v24H0V0z\" fill=\"none\"/>\n",
              "    <path d=\"M18.56 5.44l.94 2.06.94-2.06 2.06-.94-2.06-.94-.94-2.06-.94 2.06-2.06.94zm-11 1L8.5 8.5l.94-2.06 2.06-.94-2.06-.94L8.5 2.5l-.94 2.06-2.06.94zm10 10l.94 2.06.94-2.06 2.06-.94-2.06-.94-.94-2.06-.94 2.06-2.06.94z\"/><path d=\"M17.41 7.96l-1.37-1.37c-.4-.4-.92-.59-1.43-.59-.52 0-1.04.2-1.43.59L10.3 9.45l-7.72 7.72c-.78.78-.78 2.05 0 2.83L4 21.41c.39.39.9.59 1.41.59.51 0 1.02-.2 1.41-.59l7.78-7.78 2.81-2.81c.8-.78.8-2.07 0-2.86zM5.41 20L4 18.59l7.72-7.72 1.47 1.35L5.41 20z\"/>\n",
              "  </svg>\n",
              "      </button>\n",
              "      \n",
              "  <style>\n",
              "    .colab-df-container {\n",
              "      display:flex;\n",
              "      flex-wrap:wrap;\n",
              "      gap: 12px;\n",
              "    }\n",
              "\n",
              "    .colab-df-convert {\n",
              "      background-color: #E8F0FE;\n",
              "      border: none;\n",
              "      border-radius: 50%;\n",
              "      cursor: pointer;\n",
              "      display: none;\n",
              "      fill: #1967D2;\n",
              "      height: 32px;\n",
              "      padding: 0 0 0 0;\n",
              "      width: 32px;\n",
              "    }\n",
              "\n",
              "    .colab-df-convert:hover {\n",
              "      background-color: #E2EBFA;\n",
              "      box-shadow: 0px 1px 2px rgba(60, 64, 67, 0.3), 0px 1px 3px 1px rgba(60, 64, 67, 0.15);\n",
              "      fill: #174EA6;\n",
              "    }\n",
              "\n",
              "    [theme=dark] .colab-df-convert {\n",
              "      background-color: #3B4455;\n",
              "      fill: #D2E3FC;\n",
              "    }\n",
              "\n",
              "    [theme=dark] .colab-df-convert:hover {\n",
              "      background-color: #434B5C;\n",
              "      box-shadow: 0px 1px 3px 1px rgba(0, 0, 0, 0.15);\n",
              "      filter: drop-shadow(0px 1px 2px rgba(0, 0, 0, 0.3));\n",
              "      fill: #FFFFFF;\n",
              "    }\n",
              "  </style>\n",
              "\n",
              "      <script>\n",
              "        const buttonEl =\n",
              "          document.querySelector('#df-46d1329a-0c1a-4630-ab2b-7f5f9e683273 button.colab-df-convert');\n",
              "        buttonEl.style.display =\n",
              "          google.colab.kernel.accessAllowed ? 'block' : 'none';\n",
              "\n",
              "        async function convertToInteractive(key) {\n",
              "          const element = document.querySelector('#df-46d1329a-0c1a-4630-ab2b-7f5f9e683273');\n",
              "          const dataTable =\n",
              "            await google.colab.kernel.invokeFunction('convertToInteractive',\n",
              "                                                     [key], {});\n",
              "          if (!dataTable) return;\n",
              "\n",
              "          const docLinkHtml = 'Like what you see? Visit the ' +\n",
              "            '<a target=\"_blank\" href=https://colab.research.google.com/notebooks/data_table.ipynb>data table notebook</a>'\n",
              "            + ' to learn more about interactive tables.';\n",
              "          element.innerHTML = '';\n",
              "          dataTable['output_type'] = 'display_data';\n",
              "          await google.colab.output.renderOutput(dataTable, element);\n",
              "          const docLink = document.createElement('div');\n",
              "          docLink.innerHTML = docLinkHtml;\n",
              "          element.appendChild(docLink);\n",
              "        }\n",
              "      </script>\n",
              "    </div>\n",
              "  </div>\n",
              "  "
            ],
            "text/plain": [
              "   Number  Year                                  Album          Artist  \\\n",
              "0       1  1967  Sgt. Pepper's Lonely Hearts Club Band     The Beatles   \n",
              "1       2  1966                             Pet Sounds  The Beach Boys   \n",
              "2       3  1966                               Revolver     The Beatles   \n",
              "3       4  1965                   Highway 61 Revisited       Bob Dylan   \n",
              "4       5  1965                            Rubber Soul     The Beatles   \n",
              "\n",
              "       Genre                       Subgenre  \n",
              "0       Rock  Rock & Roll, Psychedelic Rock  \n",
              "1       Rock     Pop Rock, Psychedelic Rock  \n",
              "2       Rock     Psychedelic Rock, Pop Rock  \n",
              "3       Rock          Folk Rock, Blues Rock  \n",
              "4  Rock, Pop                       Pop Rock  "
            ]
          },
          "execution_count": 7,
          "metadata": {},
          "output_type": "execute_result"
        }
      ],
      "source": [
        "df1 = pd.read_csv('data/albumlist.csv', encoding='mac_roman')\n",
        "df1.head()"
      ]
    },
    {
      "cell_type": "code",
      "execution_count": null,
      "metadata": {
        "colab": {
          "base_uri": "https://localhost:8080/",
          "height": 354
        },
        "id": "QJR9hyFoLrVz",
        "outputId": "d7847d77-dcb0-4ea5-8451-d56282347010"
      },
      "outputs": [
        {
          "data": {
            "text/html": [
              "\n",
              "  <div id=\"df-7a2e3c72-6e63-4239-b61d-52d1f985b4e2\">\n",
              "    <div class=\"colab-df-container\">\n",
              "      <div>\n",
              "<style scoped>\n",
              "    .dataframe tbody tr th:only-of-type {\n",
              "        vertical-align: middle;\n",
              "    }\n",
              "\n",
              "    .dataframe tbody tr th {\n",
              "        vertical-align: top;\n",
              "    }\n",
              "\n",
              "    .dataframe thead th {\n",
              "        text-align: right;\n",
              "    }\n",
              "</style>\n",
              "<table border=\"1\" class=\"dataframe\">\n",
              "  <thead>\n",
              "    <tr style=\"text-align: right;\">\n",
              "      <th></th>\n",
              "      <th>Ranking</th>\n",
              "      <th>Album</th>\n",
              "      <th>Artist Name</th>\n",
              "      <th>Release Date</th>\n",
              "      <th>Genres</th>\n",
              "      <th>Descriptors</th>\n",
              "      <th>Average Rating</th>\n",
              "      <th>Number of Ratings</th>\n",
              "      <th>Number of Reviews</th>\n",
              "    </tr>\n",
              "  </thead>\n",
              "  <tbody>\n",
              "    <tr>\n",
              "      <th>0</th>\n",
              "      <td>1.0</td>\n",
              "      <td>OK Computer</td>\n",
              "      <td>Radiohead</td>\n",
              "      <td>16 June 1997</td>\n",
              "      <td>Alternative Rock, Art Rock</td>\n",
              "      <td>melancholic, anxious, futuristic, alienation, ...</td>\n",
              "      <td>4.23</td>\n",
              "      <td>70,382</td>\n",
              "      <td>1531</td>\n",
              "    </tr>\n",
              "    <tr>\n",
              "      <th>1</th>\n",
              "      <td>2.0</td>\n",
              "      <td>Wish You Were Here</td>\n",
              "      <td>Pink Floyd</td>\n",
              "      <td>12 September 1975</td>\n",
              "      <td>Progressive Rock, Art Rock</td>\n",
              "      <td>melancholic, atmospheric, progressive, male vo...</td>\n",
              "      <td>4.29</td>\n",
              "      <td>48,662</td>\n",
              "      <td>983</td>\n",
              "    </tr>\n",
              "    <tr>\n",
              "      <th>2</th>\n",
              "      <td>3.0</td>\n",
              "      <td>In the Court of the Crimson King</td>\n",
              "      <td>King Crimson</td>\n",
              "      <td>10 October 1969</td>\n",
              "      <td>Progressive Rock, Art Rock</td>\n",
              "      <td>fantasy, epic, progressive, philosophical, com...</td>\n",
              "      <td>4.30</td>\n",
              "      <td>44,943</td>\n",
              "      <td>870</td>\n",
              "    </tr>\n",
              "    <tr>\n",
              "      <th>3</th>\n",
              "      <td>4.0</td>\n",
              "      <td>Kid A</td>\n",
              "      <td>Radiohead</td>\n",
              "      <td>3 October 2000</td>\n",
              "      <td>Art Rock, Experimental Rock, Electronic</td>\n",
              "      <td>cold, melancholic, futuristic, atmospheric, an...</td>\n",
              "      <td>4.21</td>\n",
              "      <td>58,590</td>\n",
              "      <td>734</td>\n",
              "    </tr>\n",
              "    <tr>\n",
              "      <th>4</th>\n",
              "      <td>5.0</td>\n",
              "      <td>To Pimp a Butterfly</td>\n",
              "      <td>Kendrick Lamar</td>\n",
              "      <td>15 March 2015</td>\n",
              "      <td>Conscious Hip Hop, West Coast Hip Hop, Jazz Rap</td>\n",
              "      <td>political, conscious, poetic, protest, concept...</td>\n",
              "      <td>4.27</td>\n",
              "      <td>44,206</td>\n",
              "      <td>379</td>\n",
              "    </tr>\n",
              "  </tbody>\n",
              "</table>\n",
              "</div>\n",
              "      <button class=\"colab-df-convert\" onclick=\"convertToInteractive('df-7a2e3c72-6e63-4239-b61d-52d1f985b4e2')\"\n",
              "              title=\"Convert this dataframe to an interactive table.\"\n",
              "              style=\"display:none;\">\n",
              "        \n",
              "  <svg xmlns=\"http://www.w3.org/2000/svg\" height=\"24px\"viewBox=\"0 0 24 24\"\n",
              "       width=\"24px\">\n",
              "    <path d=\"M0 0h24v24H0V0z\" fill=\"none\"/>\n",
              "    <path d=\"M18.56 5.44l.94 2.06.94-2.06 2.06-.94-2.06-.94-.94-2.06-.94 2.06-2.06.94zm-11 1L8.5 8.5l.94-2.06 2.06-.94-2.06-.94L8.5 2.5l-.94 2.06-2.06.94zm10 10l.94 2.06.94-2.06 2.06-.94-2.06-.94-.94-2.06-.94 2.06-2.06.94z\"/><path d=\"M17.41 7.96l-1.37-1.37c-.4-.4-.92-.59-1.43-.59-.52 0-1.04.2-1.43.59L10.3 9.45l-7.72 7.72c-.78.78-.78 2.05 0 2.83L4 21.41c.39.39.9.59 1.41.59.51 0 1.02-.2 1.41-.59l7.78-7.78 2.81-2.81c.8-.78.8-2.07 0-2.86zM5.41 20L4 18.59l7.72-7.72 1.47 1.35L5.41 20z\"/>\n",
              "  </svg>\n",
              "      </button>\n",
              "      \n",
              "  <style>\n",
              "    .colab-df-container {\n",
              "      display:flex;\n",
              "      flex-wrap:wrap;\n",
              "      gap: 12px;\n",
              "    }\n",
              "\n",
              "    .colab-df-convert {\n",
              "      background-color: #E8F0FE;\n",
              "      border: none;\n",
              "      border-radius: 50%;\n",
              "      cursor: pointer;\n",
              "      display: none;\n",
              "      fill: #1967D2;\n",
              "      height: 32px;\n",
              "      padding: 0 0 0 0;\n",
              "      width: 32px;\n",
              "    }\n",
              "\n",
              "    .colab-df-convert:hover {\n",
              "      background-color: #E2EBFA;\n",
              "      box-shadow: 0px 1px 2px rgba(60, 64, 67, 0.3), 0px 1px 3px 1px rgba(60, 64, 67, 0.15);\n",
              "      fill: #174EA6;\n",
              "    }\n",
              "\n",
              "    [theme=dark] .colab-df-convert {\n",
              "      background-color: #3B4455;\n",
              "      fill: #D2E3FC;\n",
              "    }\n",
              "\n",
              "    [theme=dark] .colab-df-convert:hover {\n",
              "      background-color: #434B5C;\n",
              "      box-shadow: 0px 1px 3px 1px rgba(0, 0, 0, 0.15);\n",
              "      filter: drop-shadow(0px 1px 2px rgba(0, 0, 0, 0.3));\n",
              "      fill: #FFFFFF;\n",
              "    }\n",
              "  </style>\n",
              "\n",
              "      <script>\n",
              "        const buttonEl =\n",
              "          document.querySelector('#df-7a2e3c72-6e63-4239-b61d-52d1f985b4e2 button.colab-df-convert');\n",
              "        buttonEl.style.display =\n",
              "          google.colab.kernel.accessAllowed ? 'block' : 'none';\n",
              "\n",
              "        async function convertToInteractive(key) {\n",
              "          const element = document.querySelector('#df-7a2e3c72-6e63-4239-b61d-52d1f985b4e2');\n",
              "          const dataTable =\n",
              "            await google.colab.kernel.invokeFunction('convertToInteractive',\n",
              "                                                     [key], {});\n",
              "          if (!dataTable) return;\n",
              "\n",
              "          const docLinkHtml = 'Like what you see? Visit the ' +\n",
              "            '<a target=\"_blank\" href=https://colab.research.google.com/notebooks/data_table.ipynb>data table notebook</a>'\n",
              "            + ' to learn more about interactive tables.';\n",
              "          element.innerHTML = '';\n",
              "          dataTable['output_type'] = 'display_data';\n",
              "          await google.colab.output.renderOutput(dataTable, element);\n",
              "          const docLink = document.createElement('div');\n",
              "          docLink.innerHTML = docLinkHtml;\n",
              "          element.appendChild(docLink);\n",
              "        }\n",
              "      </script>\n",
              "    </div>\n",
              "  </div>\n",
              "  "
            ],
            "text/plain": [
              "   Ranking                             Album     Artist Name  \\\n",
              "0      1.0                       OK Computer       Radiohead   \n",
              "1      2.0                Wish You Were Here      Pink Floyd   \n",
              "2      3.0  In the Court of the Crimson King    King Crimson   \n",
              "3      4.0                             Kid A       Radiohead   \n",
              "4      5.0               To Pimp a Butterfly  Kendrick Lamar   \n",
              "\n",
              "        Release Date                                           Genres  \\\n",
              "0       16 June 1997                       Alternative Rock, Art Rock   \n",
              "1  12 September 1975                       Progressive Rock, Art Rock   \n",
              "2    10 October 1969                       Progressive Rock, Art Rock   \n",
              "3     3 October 2000          Art Rock, Experimental Rock, Electronic   \n",
              "4      15 March 2015  Conscious Hip Hop, West Coast Hip Hop, Jazz Rap   \n",
              "\n",
              "                                         Descriptors  Average Rating  \\\n",
              "0  melancholic, anxious, futuristic, alienation, ...            4.23   \n",
              "1  melancholic, atmospheric, progressive, male vo...            4.29   \n",
              "2  fantasy, epic, progressive, philosophical, com...            4.30   \n",
              "3  cold, melancholic, futuristic, atmospheric, an...            4.21   \n",
              "4  political, conscious, poetic, protest, concept...            4.27   \n",
              "\n",
              "  Number of Ratings  Number of Reviews  \n",
              "0            70,382               1531  \n",
              "1            48,662                983  \n",
              "2            44,943                870  \n",
              "3            58,590                734  \n",
              "4            44,206                379  "
            ]
          },
          "execution_count": 8,
          "metadata": {},
          "output_type": "execute_result"
        }
      ],
      "source": [
        "df2 = pd.read_csv('data/rym_top_5000_all_time.csv', encoding='mac_roman')\n",
        "df2.head()"
      ]
    },
    {
      "cell_type": "code",
      "execution_count": null,
      "metadata": {
        "colab": {
          "base_uri": "https://localhost:8080/"
        },
        "id": "pE2ReR7XL4HP",
        "outputId": "be0d34f0-1c3a-4906-c1fb-1bfda8071063"
      },
      "outputs": [
        {
          "data": {
            "text/plain": [
              "336"
            ]
          },
          "execution_count": 9,
          "metadata": {},
          "output_type": "execute_result"
        }
      ],
      "source": [
        "# In a very Brute Force way I check the number of albums common to the two datasets\n",
        "counter = 0\n",
        "for album in df1['Album']:\n",
        "  for check in df2['Album']:\n",
        "    if album == check: counter += 1\n",
        "\n",
        "counter"
      ]
    },
    {
      "cell_type": "code",
      "execution_count": null,
      "metadata": {
        "colab": {
          "base_uri": "https://localhost:8080/"
        },
        "id": "mxdGZpsW8_62",
        "outputId": "e5699649-2dd1-48c2-9f3f-631c65d51a61"
      },
      "outputs": [
        {
          "data": {
            "text/plain": [
              "Number       int64\n",
              "Year         int64\n",
              "Album       object\n",
              "Artist      object\n",
              "Genre       object\n",
              "Subgenre    object\n",
              "dtype: object"
            ]
          },
          "execution_count": 10,
          "metadata": {},
          "output_type": "execute_result"
        }
      ],
      "source": [
        "df1.dtypes"
      ]
    },
    {
      "cell_type": "code",
      "execution_count": null,
      "metadata": {
        "colab": {
          "base_uri": "https://localhost:8080/"
        },
        "id": "ibqovng49CCs",
        "outputId": "cf56ca80-0dc5-4d39-9f82-f2b3e30075c2"
      },
      "outputs": [
        {
          "data": {
            "text/plain": [
              "Ranking              float64\n",
              "Album                 object\n",
              "Artist Name           object\n",
              "Release Date          object\n",
              "Genres                object\n",
              "Descriptors           object\n",
              "Average Rating       float64\n",
              "Number of Ratings     object\n",
              "Number of Reviews      int64\n",
              "dtype: object"
            ]
          },
          "execution_count": 11,
          "metadata": {},
          "output_type": "execute_result"
        }
      ],
      "source": [
        "df2.dtypes"
      ]
    },
    {
      "cell_type": "code",
      "execution_count": null,
      "metadata": {
        "id": "zaHUy5-c7Du7"
      },
      "outputs": [],
      "source": [
        "df1 = df1.drop(['Number'], axis=1)\n",
        "df1 = df1.rename(columns = {'Year' : 'Release_Date', 'Genre' : 'Genres'})\n",
        "df2 = df2.drop(['Ranking'], axis=1)\n",
        "df2 = df2.rename(columns = {'Artist Name' : 'Artist', 'Release Date' : 'Release_Date'})\n",
        "\n",
        "# I decided to drop the columns about the ratings due to their specificity in the domain, they are indeed not useful for integrate further data\n",
        "df2 = df2.drop(['Average Rating', 'Number of Ratings', 'Number of Reviews'], axis=1)"
      ]
    },
    {
      "cell_type": "code",
      "execution_count": null,
      "metadata": {
        "colab": {
          "base_uri": "https://localhost:8080/"
        },
        "id": "oqpoZYbv2Ttl",
        "outputId": "50a1d8ef-786c-4a54-d84c-871d450264b5"
      },
      "outputs": [
        {
          "data": {
            "text/plain": [
              "Index(['Album', 'Artist', 'Release_Date', 'Genres'], dtype='object')"
            ]
          },
          "execution_count": 13,
          "metadata": {},
          "output_type": "execute_result"
        }
      ],
      "source": [
        "df2.columns.intersection(df1.columns)"
      ]
    },
    {
      "attachments": {},
      "cell_type": "markdown",
      "metadata": {
        "id": "Ov_psSPGqpax"
      },
      "source": [
        "Concatanaiting the two dataframes\n"
      ]
    },
    {
      "cell_type": "code",
      "execution_count": null,
      "metadata": {
        "colab": {
          "base_uri": "https://localhost:8080/"
        },
        "id": "FXWSvYIUyaNv",
        "outputId": "41296986-21b0-4338-bf35-a3d92e675a21"
      },
      "outputs": [
        {
          "data": {
            "text/plain": [
              "Index(['Release_Date', 'Album', 'Artist', 'Genres', 'Subgenre', 'Descriptors'], dtype='object')"
            ]
          },
          "execution_count": 14,
          "metadata": {},
          "output_type": "execute_result"
        }
      ],
      "source": [
        "final_df = pd.concat([df1, df2])\n",
        "final_df.columns"
      ]
    },
    {
      "cell_type": "code",
      "execution_count": null,
      "metadata": {
        "colab": {
          "base_uri": "https://localhost:8080/",
          "height": 206
        },
        "id": "o2j8RmOH1o8m",
        "outputId": "c20cc391-6b92-402c-82e0-5a99f5222dd1"
      },
      "outputs": [
        {
          "data": {
            "text/html": [
              "\n",
              "  <div id=\"df-995fbca3-62ab-4307-9b15-3408c929d276\">\n",
              "    <div class=\"colab-df-container\">\n",
              "      <div>\n",
              "<style scoped>\n",
              "    .dataframe tbody tr th:only-of-type {\n",
              "        vertical-align: middle;\n",
              "    }\n",
              "\n",
              "    .dataframe tbody tr th {\n",
              "        vertical-align: top;\n",
              "    }\n",
              "\n",
              "    .dataframe thead th {\n",
              "        text-align: right;\n",
              "    }\n",
              "</style>\n",
              "<table border=\"1\" class=\"dataframe\">\n",
              "  <thead>\n",
              "    <tr style=\"text-align: right;\">\n",
              "      <th></th>\n",
              "      <th>Release_Date</th>\n",
              "      <th>Album</th>\n",
              "      <th>Artist</th>\n",
              "      <th>Genres</th>\n",
              "      <th>Subgenre</th>\n",
              "      <th>Descriptors</th>\n",
              "    </tr>\n",
              "  </thead>\n",
              "  <tbody>\n",
              "    <tr>\n",
              "      <th>0</th>\n",
              "      <td>1968</td>\n",
              "      <td>The Beatles (\"The White Album\")</td>\n",
              "      <td>The Beatles</td>\n",
              "      <td>Rock</td>\n",
              "      <td>Rock &amp; Roll, Pop Rock, Psychedelic Rock, Exper...</td>\n",
              "      <td>NaN</td>\n",
              "    </tr>\n",
              "    <tr>\n",
              "      <th>1</th>\n",
              "      <td>1976</td>\n",
              "      <td>The Sun Sessions</td>\n",
              "      <td>Elvis Presley</td>\n",
              "      <td>Rock</td>\n",
              "      <td>Rock &amp; Roll</td>\n",
              "      <td>NaN</td>\n",
              "    </tr>\n",
              "    <tr>\n",
              "      <th>2</th>\n",
              "      <td>1982</td>\n",
              "      <td>The Great Twenty_Eight</td>\n",
              "      <td>Chuck Berry</td>\n",
              "      <td>Rock</td>\n",
              "      <td>Rock &amp; Roll</td>\n",
              "      <td>NaN</td>\n",
              "    </tr>\n",
              "    <tr>\n",
              "      <th>3</th>\n",
              "      <td>1990</td>\n",
              "      <td>The Complete Recordings</td>\n",
              "      <td>Robert Johnson</td>\n",
              "      <td>Blues</td>\n",
              "      <td>Delta Blues</td>\n",
              "      <td>NaN</td>\n",
              "    </tr>\n",
              "    <tr>\n",
              "      <th>4</th>\n",
              "      <td>1970</td>\n",
              "      <td>John Lennon/Plastic Ono Band</td>\n",
              "      <td>John Lennon / Plastic Ono Band</td>\n",
              "      <td>Rock</td>\n",
              "      <td>Pop Rock</td>\n",
              "      <td>NaN</td>\n",
              "    </tr>\n",
              "  </tbody>\n",
              "</table>\n",
              "</div>\n",
              "      <button class=\"colab-df-convert\" onclick=\"convertToInteractive('df-995fbca3-62ab-4307-9b15-3408c929d276')\"\n",
              "              title=\"Convert this dataframe to an interactive table.\"\n",
              "              style=\"display:none;\">\n",
              "        \n",
              "  <svg xmlns=\"http://www.w3.org/2000/svg\" height=\"24px\"viewBox=\"0 0 24 24\"\n",
              "       width=\"24px\">\n",
              "    <path d=\"M0 0h24v24H0V0z\" fill=\"none\"/>\n",
              "    <path d=\"M18.56 5.44l.94 2.06.94-2.06 2.06-.94-2.06-.94-.94-2.06-.94 2.06-2.06.94zm-11 1L8.5 8.5l.94-2.06 2.06-.94-2.06-.94L8.5 2.5l-.94 2.06-2.06.94zm10 10l.94 2.06.94-2.06 2.06-.94-2.06-.94-.94-2.06-.94 2.06-2.06.94z\"/><path d=\"M17.41 7.96l-1.37-1.37c-.4-.4-.92-.59-1.43-.59-.52 0-1.04.2-1.43.59L10.3 9.45l-7.72 7.72c-.78.78-.78 2.05 0 2.83L4 21.41c.39.39.9.59 1.41.59.51 0 1.02-.2 1.41-.59l7.78-7.78 2.81-2.81c.8-.78.8-2.07 0-2.86zM5.41 20L4 18.59l7.72-7.72 1.47 1.35L5.41 20z\"/>\n",
              "  </svg>\n",
              "      </button>\n",
              "      \n",
              "  <style>\n",
              "    .colab-df-container {\n",
              "      display:flex;\n",
              "      flex-wrap:wrap;\n",
              "      gap: 12px;\n",
              "    }\n",
              "\n",
              "    .colab-df-convert {\n",
              "      background-color: #E8F0FE;\n",
              "      border: none;\n",
              "      border-radius: 50%;\n",
              "      cursor: pointer;\n",
              "      display: none;\n",
              "      fill: #1967D2;\n",
              "      height: 32px;\n",
              "      padding: 0 0 0 0;\n",
              "      width: 32px;\n",
              "    }\n",
              "\n",
              "    .colab-df-convert:hover {\n",
              "      background-color: #E2EBFA;\n",
              "      box-shadow: 0px 1px 2px rgba(60, 64, 67, 0.3), 0px 1px 3px 1px rgba(60, 64, 67, 0.15);\n",
              "      fill: #174EA6;\n",
              "    }\n",
              "\n",
              "    [theme=dark] .colab-df-convert {\n",
              "      background-color: #3B4455;\n",
              "      fill: #D2E3FC;\n",
              "    }\n",
              "\n",
              "    [theme=dark] .colab-df-convert:hover {\n",
              "      background-color: #434B5C;\n",
              "      box-shadow: 0px 1px 3px 1px rgba(0, 0, 0, 0.15);\n",
              "      filter: drop-shadow(0px 1px 2px rgba(0, 0, 0, 0.3));\n",
              "      fill: #FFFFFF;\n",
              "    }\n",
              "  </style>\n",
              "\n",
              "      <script>\n",
              "        const buttonEl =\n",
              "          document.querySelector('#df-995fbca3-62ab-4307-9b15-3408c929d276 button.colab-df-convert');\n",
              "        buttonEl.style.display =\n",
              "          google.colab.kernel.accessAllowed ? 'block' : 'none';\n",
              "\n",
              "        async function convertToInteractive(key) {\n",
              "          const element = document.querySelector('#df-995fbca3-62ab-4307-9b15-3408c929d276');\n",
              "          const dataTable =\n",
              "            await google.colab.kernel.invokeFunction('convertToInteractive',\n",
              "                                                     [key], {});\n",
              "          if (!dataTable) return;\n",
              "\n",
              "          const docLinkHtml = 'Like what you see? Visit the ' +\n",
              "            '<a target=\"_blank\" href=https://colab.research.google.com/notebooks/data_table.ipynb>data table notebook</a>'\n",
              "            + ' to learn more about interactive tables.';\n",
              "          element.innerHTML = '';\n",
              "          dataTable['output_type'] = 'display_data';\n",
              "          await google.colab.output.renderOutput(dataTable, element);\n",
              "          const docLink = document.createElement('div');\n",
              "          docLink.innerHTML = docLinkHtml;\n",
              "          element.appendChild(docLink);\n",
              "        }\n",
              "      </script>\n",
              "    </div>\n",
              "  </div>\n",
              "  "
            ],
            "text/plain": [
              "  Release_Date                            Album  \\\n",
              "0         1968  The Beatles (\"The White Album\")   \n",
              "1         1976                 The Sun Sessions   \n",
              "2         1982           The Great Twenty_Eight   \n",
              "3         1990          The Complete Recordings   \n",
              "4         1970     John Lennon/Plastic Ono Band   \n",
              "\n",
              "                           Artist Genres  \\\n",
              "0                     The Beatles   Rock   \n",
              "1                   Elvis Presley   Rock   \n",
              "2                     Chuck Berry   Rock   \n",
              "3                  Robert Johnson  Blues   \n",
              "4  John Lennon / Plastic Ono Band   Rock   \n",
              "\n",
              "                                            Subgenre Descriptors  \n",
              "0  Rock & Roll, Pop Rock, Psychedelic Rock, Exper...         NaN  \n",
              "1                                        Rock & Roll         NaN  \n",
              "2                                        Rock & Roll         NaN  \n",
              "3                                        Delta Blues         NaN  \n",
              "4                                           Pop Rock         NaN  "
            ]
          },
          "execution_count": 15,
          "metadata": {},
          "output_type": "execute_result"
        }
      ],
      "source": [
        "final_df = final_df.drop_duplicates(subset='Album', keep = 'last')\n",
        "final_df = final_df.reset_index(drop = True)\n",
        "final_df.head()"
      ]
    },
    {
      "cell_type": "code",
      "execution_count": null,
      "metadata": {
        "colab": {
          "base_uri": "https://localhost:8080/",
          "height": 319
        },
        "id": "Ekb8wjEZPlE8",
        "outputId": "dd7a1ec1-3be6-43c2-fa30-d81ee1e5d487"
      },
      "outputs": [
        {
          "data": {
            "text/html": [
              "\n",
              "  <div id=\"df-8644af1d-b046-4102-9ce1-8f00709bc7fe\">\n",
              "    <div class=\"colab-df-container\">\n",
              "      <div>\n",
              "<style scoped>\n",
              "    .dataframe tbody tr th:only-of-type {\n",
              "        vertical-align: middle;\n",
              "    }\n",
              "\n",
              "    .dataframe tbody tr th {\n",
              "        vertical-align: top;\n",
              "    }\n",
              "\n",
              "    .dataframe thead th {\n",
              "        text-align: right;\n",
              "    }\n",
              "</style>\n",
              "<table border=\"1\" class=\"dataframe\">\n",
              "  <thead>\n",
              "    <tr style=\"text-align: right;\">\n",
              "      <th></th>\n",
              "      <th>Release_Date</th>\n",
              "      <th>Album</th>\n",
              "      <th>Artist</th>\n",
              "      <th>Genres</th>\n",
              "      <th>Subgenre</th>\n",
              "      <th>Descriptors</th>\n",
              "    </tr>\n",
              "  </thead>\n",
              "  <tbody>\n",
              "    <tr>\n",
              "      <th>5096</th>\n",
              "      <td>17 July 1970</td>\n",
              "      <td>Gracious!</td>\n",
              "      <td>Gracious</td>\n",
              "      <td>Progressive Rock, Symphonic Prog</td>\n",
              "      <td>NaN</td>\n",
              "      <td>NaN</td>\n",
              "    </tr>\n",
              "    <tr>\n",
              "      <th>5097</th>\n",
              "      <td>18 May 1998</td>\n",
              "      <td>Knights of the Cross</td>\n",
              "      <td>Grave Digger</td>\n",
              "      <td>Power Metal, Heavy Metal</td>\n",
              "      <td>NaN</td>\n",
              "      <td>history, male vocals, heavy, concept album, an...</td>\n",
              "    </tr>\n",
              "    <tr>\n",
              "      <th>5098</th>\n",
              "      <td>12 November 2007</td>\n",
              "      <td>(Listen For) The Rag and Bone Man</td>\n",
              "      <td>And Also the Trees</td>\n",
              "      <td>Art Rock</td>\n",
              "      <td>NaN</td>\n",
              "      <td>atmospheric, poetic, dark, male vocals, ominou...</td>\n",
              "    </tr>\n",
              "    <tr>\n",
              "      <th>5099</th>\n",
              "      <td>1969</td>\n",
              "      <td>Hymnen f√ºr elektronische und konkrete Kl√§nge</td>\n",
              "      <td>Studio f√ºr elektronische Musik des Westdeutsc...</td>\n",
              "      <td>Musique concr√®te, Modern Classical, Electronic</td>\n",
              "      <td>NaN</td>\n",
              "      <td>avant-garde, sampling, dense, complex, scary, ...</td>\n",
              "    </tr>\n",
              "    <tr>\n",
              "      <th>5100</th>\n",
              "      <td>22 May 1975</td>\n",
              "      <td>Adventures in Paradise</td>\n",
              "      <td>Minnie Riperton</td>\n",
              "      <td>Smooth Soul, Pop Soul</td>\n",
              "      <td>NaN</td>\n",
              "      <td>lush, female vocals, romantic, uplifting, summ...</td>\n",
              "    </tr>\n",
              "  </tbody>\n",
              "</table>\n",
              "</div>\n",
              "      <button class=\"colab-df-convert\" onclick=\"convertToInteractive('df-8644af1d-b046-4102-9ce1-8f00709bc7fe')\"\n",
              "              title=\"Convert this dataframe to an interactive table.\"\n",
              "              style=\"display:none;\">\n",
              "        \n",
              "  <svg xmlns=\"http://www.w3.org/2000/svg\" height=\"24px\"viewBox=\"0 0 24 24\"\n",
              "       width=\"24px\">\n",
              "    <path d=\"M0 0h24v24H0V0z\" fill=\"none\"/>\n",
              "    <path d=\"M18.56 5.44l.94 2.06.94-2.06 2.06-.94-2.06-.94-.94-2.06-.94 2.06-2.06.94zm-11 1L8.5 8.5l.94-2.06 2.06-.94-2.06-.94L8.5 2.5l-.94 2.06-2.06.94zm10 10l.94 2.06.94-2.06 2.06-.94-2.06-.94-.94-2.06-.94 2.06-2.06.94z\"/><path d=\"M17.41 7.96l-1.37-1.37c-.4-.4-.92-.59-1.43-.59-.52 0-1.04.2-1.43.59L10.3 9.45l-7.72 7.72c-.78.78-.78 2.05 0 2.83L4 21.41c.39.39.9.59 1.41.59.51 0 1.02-.2 1.41-.59l7.78-7.78 2.81-2.81c.8-.78.8-2.07 0-2.86zM5.41 20L4 18.59l7.72-7.72 1.47 1.35L5.41 20z\"/>\n",
              "  </svg>\n",
              "      </button>\n",
              "      \n",
              "  <style>\n",
              "    .colab-df-container {\n",
              "      display:flex;\n",
              "      flex-wrap:wrap;\n",
              "      gap: 12px;\n",
              "    }\n",
              "\n",
              "    .colab-df-convert {\n",
              "      background-color: #E8F0FE;\n",
              "      border: none;\n",
              "      border-radius: 50%;\n",
              "      cursor: pointer;\n",
              "      display: none;\n",
              "      fill: #1967D2;\n",
              "      height: 32px;\n",
              "      padding: 0 0 0 0;\n",
              "      width: 32px;\n",
              "    }\n",
              "\n",
              "    .colab-df-convert:hover {\n",
              "      background-color: #E2EBFA;\n",
              "      box-shadow: 0px 1px 2px rgba(60, 64, 67, 0.3), 0px 1px 3px 1px rgba(60, 64, 67, 0.15);\n",
              "      fill: #174EA6;\n",
              "    }\n",
              "\n",
              "    [theme=dark] .colab-df-convert {\n",
              "      background-color: #3B4455;\n",
              "      fill: #D2E3FC;\n",
              "    }\n",
              "\n",
              "    [theme=dark] .colab-df-convert:hover {\n",
              "      background-color: #434B5C;\n",
              "      box-shadow: 0px 1px 3px 1px rgba(0, 0, 0, 0.15);\n",
              "      filter: drop-shadow(0px 1px 2px rgba(0, 0, 0, 0.3));\n",
              "      fill: #FFFFFF;\n",
              "    }\n",
              "  </style>\n",
              "\n",
              "      <script>\n",
              "        const buttonEl =\n",
              "          document.querySelector('#df-8644af1d-b046-4102-9ce1-8f00709bc7fe button.colab-df-convert');\n",
              "        buttonEl.style.display =\n",
              "          google.colab.kernel.accessAllowed ? 'block' : 'none';\n",
              "\n",
              "        async function convertToInteractive(key) {\n",
              "          const element = document.querySelector('#df-8644af1d-b046-4102-9ce1-8f00709bc7fe');\n",
              "          const dataTable =\n",
              "            await google.colab.kernel.invokeFunction('convertToInteractive',\n",
              "                                                     [key], {});\n",
              "          if (!dataTable) return;\n",
              "\n",
              "          const docLinkHtml = 'Like what you see? Visit the ' +\n",
              "            '<a target=\"_blank\" href=https://colab.research.google.com/notebooks/data_table.ipynb>data table notebook</a>'\n",
              "            + ' to learn more about interactive tables.';\n",
              "          element.innerHTML = '';\n",
              "          dataTable['output_type'] = 'display_data';\n",
              "          await google.colab.output.renderOutput(dataTable, element);\n",
              "          const docLink = document.createElement('div');\n",
              "          docLink.innerHTML = docLinkHtml;\n",
              "          element.appendChild(docLink);\n",
              "        }\n",
              "      </script>\n",
              "    </div>\n",
              "  </div>\n",
              "  "
            ],
            "text/plain": [
              "          Release_Date                                           Album  \\\n",
              "5096      17 July 1970                                       Gracious!   \n",
              "5097       18 May 1998                            Knights of the Cross   \n",
              "5098  12 November 2007               (Listen For) The Rag and Bone Man   \n",
              "5099              1969  Hymnen f√ºr elektronische und konkrete Kl√§nge   \n",
              "5100       22 May 1975                          Adventures in Paradise   \n",
              "\n",
              "                                                 Artist  \\\n",
              "5096                                           Gracious   \n",
              "5097                                       Grave Digger   \n",
              "5098                                 And Also the Trees   \n",
              "5099  Studio f√ºr elektronische Musik des Westdeutsc...   \n",
              "5100                                    Minnie Riperton   \n",
              "\n",
              "                                               Genres Subgenre  \\\n",
              "5096                 Progressive Rock, Symphonic Prog      NaN   \n",
              "5097                         Power Metal, Heavy Metal      NaN   \n",
              "5098                                         Art Rock      NaN   \n",
              "5099  Musique concr√®te, Modern Classical, Electronic      NaN   \n",
              "5100                            Smooth Soul, Pop Soul      NaN   \n",
              "\n",
              "                                            Descriptors  \n",
              "5096                                                NaN  \n",
              "5097  history, male vocals, heavy, concept album, an...  \n",
              "5098  atmospheric, poetic, dark, male vocals, ominou...  \n",
              "5099  avant-garde, sampling, dense, complex, scary, ...  \n",
              "5100  lush, female vocals, romantic, uplifting, summ...  "
            ]
          },
          "execution_count": 16,
          "metadata": {},
          "output_type": "execute_result"
        }
      ],
      "source": [
        "final_df.tail()"
      ]
    },
    {
      "cell_type": "code",
      "execution_count": null,
      "metadata": {
        "id": "S4Og_yNu77Z3"
      },
      "outputs": [],
      "source": [
        "def getYear(val):\n",
        "  s = str(val)\n",
        "  return s[len(s)-4:]\n",
        "\n",
        "final_df['Release_Date'] = final_df['Release_Date'].apply(getYear)\n",
        "final_df['Genres'] = final_df['Genres'].astype('string')\n",
        "final_df['Subgenre'] = final_df['Subgenre'].astype('string')\n",
        "final_df['Descriptors'] = final_df['Descriptors'].astype('string')"
      ]
    },
    {
      "cell_type": "code",
      "execution_count": null,
      "metadata": {
        "colab": {
          "base_uri": "https://localhost:8080/"
        },
        "id": "V-Kc8ASQQQ3v",
        "outputId": "5eabdb32-9818-4180-8b52-624d17132327"
      },
      "outputs": [
        {
          "data": {
            "text/plain": [
              "Release_Date    object\n",
              "Album           object\n",
              "Artist          object\n",
              "Genres          string\n",
              "Subgenre        string\n",
              "Descriptors     string\n",
              "dtype: object"
            ]
          },
          "execution_count": 18,
          "metadata": {},
          "output_type": "execute_result"
        }
      ],
      "source": [
        "final_df.dtypes"
      ]
    },
    {
      "cell_type": "code",
      "execution_count": null,
      "metadata": {
        "colab": {
          "base_uri": "https://localhost:8080/",
          "height": 206
        },
        "id": "6Em1hNPCQZU2",
        "outputId": "d87333cb-0aea-49a4-b996-ef234a374803"
      },
      "outputs": [
        {
          "data": {
            "text/html": [
              "\n",
              "  <div id=\"df-d15056e2-4359-49cb-a51f-5b9af7384157\">\n",
              "    <div class=\"colab-df-container\">\n",
              "      <div>\n",
              "<style scoped>\n",
              "    .dataframe tbody tr th:only-of-type {\n",
              "        vertical-align: middle;\n",
              "    }\n",
              "\n",
              "    .dataframe tbody tr th {\n",
              "        vertical-align: top;\n",
              "    }\n",
              "\n",
              "    .dataframe thead th {\n",
              "        text-align: right;\n",
              "    }\n",
              "</style>\n",
              "<table border=\"1\" class=\"dataframe\">\n",
              "  <thead>\n",
              "    <tr style=\"text-align: right;\">\n",
              "      <th></th>\n",
              "      <th>Release_Date</th>\n",
              "      <th>Album</th>\n",
              "      <th>Artist</th>\n",
              "      <th>Genres</th>\n",
              "      <th>Subgenre</th>\n",
              "      <th>Descriptors</th>\n",
              "    </tr>\n",
              "  </thead>\n",
              "  <tbody>\n",
              "    <tr>\n",
              "      <th>0</th>\n",
              "      <td>1968</td>\n",
              "      <td>The_Beatles_The_White_Album</td>\n",
              "      <td>The_Beatles</td>\n",
              "      <td>[Rock]</td>\n",
              "      <td>[Rock&amp;Roll, PopRock, PsychedelicRock, Experime...</td>\n",
              "      <td>[]</td>\n",
              "    </tr>\n",
              "    <tr>\n",
              "      <th>1</th>\n",
              "      <td>1976</td>\n",
              "      <td>The_Sun_Sessions</td>\n",
              "      <td>Elvis_Presley</td>\n",
              "      <td>[Rock]</td>\n",
              "      <td>[Rock&amp;Roll]</td>\n",
              "      <td>[]</td>\n",
              "    </tr>\n",
              "    <tr>\n",
              "      <th>2</th>\n",
              "      <td>1982</td>\n",
              "      <td>The_Great_Twenty_Eight</td>\n",
              "      <td>Chuck_Berry</td>\n",
              "      <td>[Rock]</td>\n",
              "      <td>[Rock&amp;Roll]</td>\n",
              "      <td>[]</td>\n",
              "    </tr>\n",
              "    <tr>\n",
              "      <th>3</th>\n",
              "      <td>1990</td>\n",
              "      <td>The_Complete_Recordings</td>\n",
              "      <td>Robert_Johnson</td>\n",
              "      <td>[Blues]</td>\n",
              "      <td>[DeltaBlues]</td>\n",
              "      <td>[]</td>\n",
              "    </tr>\n",
              "    <tr>\n",
              "      <th>4</th>\n",
              "      <td>1970</td>\n",
              "      <td>John_LennonPlastic_Ono_Band</td>\n",
              "      <td>John_Lennon__Plastic_Ono_Band</td>\n",
              "      <td>[Rock]</td>\n",
              "      <td>[PopRock]</td>\n",
              "      <td>[]</td>\n",
              "    </tr>\n",
              "  </tbody>\n",
              "</table>\n",
              "</div>\n",
              "      <button class=\"colab-df-convert\" onclick=\"convertToInteractive('df-d15056e2-4359-49cb-a51f-5b9af7384157')\"\n",
              "              title=\"Convert this dataframe to an interactive table.\"\n",
              "              style=\"display:none;\">\n",
              "        \n",
              "  <svg xmlns=\"http://www.w3.org/2000/svg\" height=\"24px\"viewBox=\"0 0 24 24\"\n",
              "       width=\"24px\">\n",
              "    <path d=\"M0 0h24v24H0V0z\" fill=\"none\"/>\n",
              "    <path d=\"M18.56 5.44l.94 2.06.94-2.06 2.06-.94-2.06-.94-.94-2.06-.94 2.06-2.06.94zm-11 1L8.5 8.5l.94-2.06 2.06-.94-2.06-.94L8.5 2.5l-.94 2.06-2.06.94zm10 10l.94 2.06.94-2.06 2.06-.94-2.06-.94-.94-2.06-.94 2.06-2.06.94z\"/><path d=\"M17.41 7.96l-1.37-1.37c-.4-.4-.92-.59-1.43-.59-.52 0-1.04.2-1.43.59L10.3 9.45l-7.72 7.72c-.78.78-.78 2.05 0 2.83L4 21.41c.39.39.9.59 1.41.59.51 0 1.02-.2 1.41-.59l7.78-7.78 2.81-2.81c.8-.78.8-2.07 0-2.86zM5.41 20L4 18.59l7.72-7.72 1.47 1.35L5.41 20z\"/>\n",
              "  </svg>\n",
              "      </button>\n",
              "      \n",
              "  <style>\n",
              "    .colab-df-container {\n",
              "      display:flex;\n",
              "      flex-wrap:wrap;\n",
              "      gap: 12px;\n",
              "    }\n",
              "\n",
              "    .colab-df-convert {\n",
              "      background-color: #E8F0FE;\n",
              "      border: none;\n",
              "      border-radius: 50%;\n",
              "      cursor: pointer;\n",
              "      display: none;\n",
              "      fill: #1967D2;\n",
              "      height: 32px;\n",
              "      padding: 0 0 0 0;\n",
              "      width: 32px;\n",
              "    }\n",
              "\n",
              "    .colab-df-convert:hover {\n",
              "      background-color: #E2EBFA;\n",
              "      box-shadow: 0px 1px 2px rgba(60, 64, 67, 0.3), 0px 1px 3px 1px rgba(60, 64, 67, 0.15);\n",
              "      fill: #174EA6;\n",
              "    }\n",
              "\n",
              "    [theme=dark] .colab-df-convert {\n",
              "      background-color: #3B4455;\n",
              "      fill: #D2E3FC;\n",
              "    }\n",
              "\n",
              "    [theme=dark] .colab-df-convert:hover {\n",
              "      background-color: #434B5C;\n",
              "      box-shadow: 0px 1px 3px 1px rgba(0, 0, 0, 0.15);\n",
              "      filter: drop-shadow(0px 1px 2px rgba(0, 0, 0, 0.3));\n",
              "      fill: #FFFFFF;\n",
              "    }\n",
              "  </style>\n",
              "\n",
              "      <script>\n",
              "        const buttonEl =\n",
              "          document.querySelector('#df-d15056e2-4359-49cb-a51f-5b9af7384157 button.colab-df-convert');\n",
              "        buttonEl.style.display =\n",
              "          google.colab.kernel.accessAllowed ? 'block' : 'none';\n",
              "\n",
              "        async function convertToInteractive(key) {\n",
              "          const element = document.querySelector('#df-d15056e2-4359-49cb-a51f-5b9af7384157');\n",
              "          const dataTable =\n",
              "            await google.colab.kernel.invokeFunction('convertToInteractive',\n",
              "                                                     [key], {});\n",
              "          if (!dataTable) return;\n",
              "\n",
              "          const docLinkHtml = 'Like what you see? Visit the ' +\n",
              "            '<a target=\"_blank\" href=https://colab.research.google.com/notebooks/data_table.ipynb>data table notebook</a>'\n",
              "            + ' to learn more about interactive tables.';\n",
              "          element.innerHTML = '';\n",
              "          dataTable['output_type'] = 'display_data';\n",
              "          await google.colab.output.renderOutput(dataTable, element);\n",
              "          const docLink = document.createElement('div');\n",
              "          docLink.innerHTML = docLinkHtml;\n",
              "          element.appendChild(docLink);\n",
              "        }\n",
              "      </script>\n",
              "    </div>\n",
              "  </div>\n",
              "  "
            ],
            "text/plain": [
              "  Release_Date                        Album                         Artist  \\\n",
              "0         1968  The_Beatles_The_White_Album                    The_Beatles   \n",
              "1         1976             The_Sun_Sessions                  Elvis_Presley   \n",
              "2         1982       The_Great_Twenty_Eight                    Chuck_Berry   \n",
              "3         1990      The_Complete_Recordings                 Robert_Johnson   \n",
              "4         1970  John_LennonPlastic_Ono_Band  John_Lennon__Plastic_Ono_Band   \n",
              "\n",
              "    Genres                                           Subgenre Descriptors  \n",
              "0   [Rock]  [Rock&Roll, PopRock, PsychedelicRock, Experime...          []  \n",
              "1   [Rock]                                        [Rock&Roll]          []  \n",
              "2   [Rock]                                        [Rock&Roll]          []  \n",
              "3  [Blues]                                       [DeltaBlues]          []  \n",
              "4   [Rock]                                          [PopRock]          []  "
            ]
          },
          "execution_count": 19,
          "metadata": {},
          "output_type": "execute_result"
        }
      ],
      "source": [
        "# Formatting string columns\n",
        "def divideString(val):\n",
        "  if type(val) == str:\n",
        "    subgenres = val.split(',')\n",
        "    new_subgenres = [subgenres[0].replace(' ', '')]\n",
        "    if len(subgenres) > 1:\n",
        "      for i in subgenres[1:]:\n",
        "        new_subgenres.append(i[1:].replace(' ', ''))\n",
        "    return new_subgenres\n",
        "  else: return []\n",
        "\n",
        "for col in ['Genres', 'Subgenre', 'Descriptors']:\n",
        "  final_df[col] = final_df[col].apply(divideString)\n",
        "\n",
        "final_df['Album'] = final_df['Album'].str.replace(' ', '_').str.translate({ord(i): None for i in '\"\\'()/!'})\n",
        "final_df['Artist'] = final_df['Artist'].str.replace(' ', '_').str.translate({ord(i): None for i in '\"\\'()/!'})\n",
        "\n",
        "\n",
        "final_df.head()"
      ]
    },
    {
      "cell_type": "code",
      "execution_count": null,
      "metadata": {
        "colab": {
          "base_uri": "https://localhost:8080/",
          "height": 337
        },
        "id": "R2KurbhsILOU",
        "outputId": "728c8643-23e9-4a4e-a3b1-cde2ad590e3b"
      },
      "outputs": [
        {
          "data": {
            "text/html": [
              "\n",
              "  <div id=\"df-b5abab82-d11f-4bc2-816f-a54a0c372de6\">\n",
              "    <div class=\"colab-df-container\">\n",
              "      <div>\n",
              "<style scoped>\n",
              "    .dataframe tbody tr th:only-of-type {\n",
              "        vertical-align: middle;\n",
              "    }\n",
              "\n",
              "    .dataframe tbody tr th {\n",
              "        vertical-align: top;\n",
              "    }\n",
              "\n",
              "    .dataframe thead th {\n",
              "        text-align: right;\n",
              "    }\n",
              "</style>\n",
              "<table border=\"1\" class=\"dataframe\">\n",
              "  <thead>\n",
              "    <tr style=\"text-align: right;\">\n",
              "      <th></th>\n",
              "      <th>Release_Date</th>\n",
              "      <th>Album</th>\n",
              "      <th>Artist</th>\n",
              "      <th>Genres</th>\n",
              "      <th>Subgenre</th>\n",
              "      <th>Descriptors</th>\n",
              "    </tr>\n",
              "  </thead>\n",
              "  <tbody>\n",
              "    <tr>\n",
              "      <th>5096</th>\n",
              "      <td>1970</td>\n",
              "      <td>Gracious</td>\n",
              "      <td>Gracious</td>\n",
              "      <td>[ProgressiveRock, SymphonicProg]</td>\n",
              "      <td>[]</td>\n",
              "      <td>[]</td>\n",
              "    </tr>\n",
              "    <tr>\n",
              "      <th>5097</th>\n",
              "      <td>1998</td>\n",
              "      <td>Knights_of_the_Cross</td>\n",
              "      <td>Grave_Digger</td>\n",
              "      <td>[PowerMetal, HeavyMetal]</td>\n",
              "      <td>[]</td>\n",
              "      <td>[history, malevocals, heavy, conceptalbum, ant...</td>\n",
              "    </tr>\n",
              "    <tr>\n",
              "      <th>5098</th>\n",
              "      <td>2007</td>\n",
              "      <td>Listen_For_The_Rag_and_Bone_Man</td>\n",
              "      <td>And_Also_the_Trees</td>\n",
              "      <td>[ArtRock]</td>\n",
              "      <td>[]</td>\n",
              "      <td>[atmospheric, poetic, dark, malevocals, ominou...</td>\n",
              "    </tr>\n",
              "    <tr>\n",
              "      <th>5099</th>\n",
              "      <td>1969</td>\n",
              "      <td>Hymnen_f√ºr_elektronische_und_konkrete_Kl√§nge</td>\n",
              "      <td>Studio_f√ºr_elektronische_Musik_des_Westdeutsc...</td>\n",
              "      <td>[Musiqueconcr√®te, ModernClassical, Electronic]</td>\n",
              "      <td>[]</td>\n",
              "      <td>[avant-garde, sampling, dense, complex, scary,...</td>\n",
              "    </tr>\n",
              "    <tr>\n",
              "      <th>5100</th>\n",
              "      <td>1975</td>\n",
              "      <td>Adventures_in_Paradise</td>\n",
              "      <td>Minnie_Riperton</td>\n",
              "      <td>[SmoothSoul, PopSoul]</td>\n",
              "      <td>[]</td>\n",
              "      <td>[lush, femalevocals, romantic, uplifting, summ...</td>\n",
              "    </tr>\n",
              "  </tbody>\n",
              "</table>\n",
              "</div>\n",
              "      <button class=\"colab-df-convert\" onclick=\"convertToInteractive('df-b5abab82-d11f-4bc2-816f-a54a0c372de6')\"\n",
              "              title=\"Convert this dataframe to an interactive table.\"\n",
              "              style=\"display:none;\">\n",
              "        \n",
              "  <svg xmlns=\"http://www.w3.org/2000/svg\" height=\"24px\"viewBox=\"0 0 24 24\"\n",
              "       width=\"24px\">\n",
              "    <path d=\"M0 0h24v24H0V0z\" fill=\"none\"/>\n",
              "    <path d=\"M18.56 5.44l.94 2.06.94-2.06 2.06-.94-2.06-.94-.94-2.06-.94 2.06-2.06.94zm-11 1L8.5 8.5l.94-2.06 2.06-.94-2.06-.94L8.5 2.5l-.94 2.06-2.06.94zm10 10l.94 2.06.94-2.06 2.06-.94-2.06-.94-.94-2.06-.94 2.06-2.06.94z\"/><path d=\"M17.41 7.96l-1.37-1.37c-.4-.4-.92-.59-1.43-.59-.52 0-1.04.2-1.43.59L10.3 9.45l-7.72 7.72c-.78.78-.78 2.05 0 2.83L4 21.41c.39.39.9.59 1.41.59.51 0 1.02-.2 1.41-.59l7.78-7.78 2.81-2.81c.8-.78.8-2.07 0-2.86zM5.41 20L4 18.59l7.72-7.72 1.47 1.35L5.41 20z\"/>\n",
              "  </svg>\n",
              "      </button>\n",
              "      \n",
              "  <style>\n",
              "    .colab-df-container {\n",
              "      display:flex;\n",
              "      flex-wrap:wrap;\n",
              "      gap: 12px;\n",
              "    }\n",
              "\n",
              "    .colab-df-convert {\n",
              "      background-color: #E8F0FE;\n",
              "      border: none;\n",
              "      border-radius: 50%;\n",
              "      cursor: pointer;\n",
              "      display: none;\n",
              "      fill: #1967D2;\n",
              "      height: 32px;\n",
              "      padding: 0 0 0 0;\n",
              "      width: 32px;\n",
              "    }\n",
              "\n",
              "    .colab-df-convert:hover {\n",
              "      background-color: #E2EBFA;\n",
              "      box-shadow: 0px 1px 2px rgba(60, 64, 67, 0.3), 0px 1px 3px 1px rgba(60, 64, 67, 0.15);\n",
              "      fill: #174EA6;\n",
              "    }\n",
              "\n",
              "    [theme=dark] .colab-df-convert {\n",
              "      background-color: #3B4455;\n",
              "      fill: #D2E3FC;\n",
              "    }\n",
              "\n",
              "    [theme=dark] .colab-df-convert:hover {\n",
              "      background-color: #434B5C;\n",
              "      box-shadow: 0px 1px 3px 1px rgba(0, 0, 0, 0.15);\n",
              "      filter: drop-shadow(0px 1px 2px rgba(0, 0, 0, 0.3));\n",
              "      fill: #FFFFFF;\n",
              "    }\n",
              "  </style>\n",
              "\n",
              "      <script>\n",
              "        const buttonEl =\n",
              "          document.querySelector('#df-b5abab82-d11f-4bc2-816f-a54a0c372de6 button.colab-df-convert');\n",
              "        buttonEl.style.display =\n",
              "          google.colab.kernel.accessAllowed ? 'block' : 'none';\n",
              "\n",
              "        async function convertToInteractive(key) {\n",
              "          const element = document.querySelector('#df-b5abab82-d11f-4bc2-816f-a54a0c372de6');\n",
              "          const dataTable =\n",
              "            await google.colab.kernel.invokeFunction('convertToInteractive',\n",
              "                                                     [key], {});\n",
              "          if (!dataTable) return;\n",
              "\n",
              "          const docLinkHtml = 'Like what you see? Visit the ' +\n",
              "            '<a target=\"_blank\" href=https://colab.research.google.com/notebooks/data_table.ipynb>data table notebook</a>'\n",
              "            + ' to learn more about interactive tables.';\n",
              "          element.innerHTML = '';\n",
              "          dataTable['output_type'] = 'display_data';\n",
              "          await google.colab.output.renderOutput(dataTable, element);\n",
              "          const docLink = document.createElement('div');\n",
              "          docLink.innerHTML = docLinkHtml;\n",
              "          element.appendChild(docLink);\n",
              "        }\n",
              "      </script>\n",
              "    </div>\n",
              "  </div>\n",
              "  "
            ],
            "text/plain": [
              "     Release_Date                                           Album  \\\n",
              "5096         1970                                        Gracious   \n",
              "5097         1998                            Knights_of_the_Cross   \n",
              "5098         2007                 Listen_For_The_Rag_and_Bone_Man   \n",
              "5099         1969  Hymnen_f√ºr_elektronische_und_konkrete_Kl√§nge   \n",
              "5100         1975                          Adventures_in_Paradise   \n",
              "\n",
              "                                                 Artist  \\\n",
              "5096                                           Gracious   \n",
              "5097                                       Grave_Digger   \n",
              "5098                                 And_Also_the_Trees   \n",
              "5099  Studio_f√ºr_elektronische_Musik_des_Westdeutsc...   \n",
              "5100                                    Minnie_Riperton   \n",
              "\n",
              "                                               Genres Subgenre  \\\n",
              "5096                 [ProgressiveRock, SymphonicProg]       []   \n",
              "5097                         [PowerMetal, HeavyMetal]       []   \n",
              "5098                                        [ArtRock]       []   \n",
              "5099  [Musiqueconcr√®te, ModernClassical, Electronic]       []   \n",
              "5100                            [SmoothSoul, PopSoul]       []   \n",
              "\n",
              "                                            Descriptors  \n",
              "5096                                                 []  \n",
              "5097  [history, malevocals, heavy, conceptalbum, ant...  \n",
              "5098  [atmospheric, poetic, dark, malevocals, ominou...  \n",
              "5099  [avant-garde, sampling, dense, complex, scary,...  \n",
              "5100  [lush, femalevocals, romantic, uplifting, summ...  "
            ]
          },
          "execution_count": 20,
          "metadata": {},
          "output_type": "execute_result"
        }
      ],
      "source": [
        "final_df.tail()"
      ]
    },
    {
      "cell_type": "code",
      "execution_count": null,
      "metadata": {
        "colab": {
          "base_uri": "https://localhost:8080/"
        },
        "id": "xu-2xWCD95er",
        "outputId": "233e6b71-a913-4e81-ec62-2aedb098364c"
      },
      "outputs": [
        {
          "data": {
            "text/plain": [
              "Release_Date    object\n",
              "Album           object\n",
              "Artist          object\n",
              "Genres          object\n",
              "Subgenre        object\n",
              "Descriptors     object\n",
              "dtype: object"
            ]
          },
          "execution_count": 21,
          "metadata": {},
          "output_type": "execute_result"
        }
      ],
      "source": [
        "final_df.dtypes"
      ]
    },
    {
      "attachments": {},
      "cell_type": "markdown",
      "metadata": {
        "id": "PDAeXdD4MI68"
      },
      "source": [
        "Starting to create the graph\n"
      ]
    },
    {
      "cell_type": "code",
      "execution_count": 53,
      "metadata": {
        "id": "rIZf6RbPMOW1"
      },
      "outputs": [],
      "source": [
        "from rdflib import Graph, URIRef, BNode, Literal, FOAF, RDF, OWL, RDFS, XSD, Namespace"
      ]
    },
    {
      "cell_type": "code",
      "execution_count": 11,
      "metadata": {
        "id": "ouzmwSvQMf2b"
      },
      "outputs": [],
      "source": [
        "graph = Graph()\n",
        "\n",
        "# Number of albums to work with, I added this constant in order to make the user able to decide how much data to work with\n",
        "# obviously keep in mind that the number of triples in the graph grows exponentially with respect to the number of albums\n",
        "NUMBER_OF_ALBUMS = 1000000\n",
        "\n",
        "# working at first on example namespace\n",
        "ex = Namespace('http://example.org/')\n",
        "dbp = Namespace('https://dbpedia.org/property/')\n",
        "dbo = Namespace('https://dbpedia.org/ontology/')\n",
        "dbr = Namespace('https://dbpedia.org/resource/')\n",
        "graph.namespace_manager.bind('ex', ex)\n",
        "graph.namespace_manager.bind('dbp', dbp)\n",
        "graph.namespace_manager.bind('dbo', dbo)\n",
        "graph.namespace_manager.bind('dbr', dbr)"
      ]
    },
    {
      "attachments": {},
      "cell_type": "markdown",
      "metadata": {
        "id": "ryKkbLUnQU4z"
      },
      "source": [
        "Adding triples already integrated with DBPedia"
      ]
    },
    {
      "cell_type": "code",
      "execution_count": null,
      "metadata": {
        "id": "_lpzzCPwer2k"
      },
      "outputs": [],
      "source": [
        "def check_entity_presence(entity_uri):\n",
        "    sparql = SPARQLWrapper(\"http://dbpedia.org/sparql\")\n",
        "\n",
        "    # Construct the SPARQL query to check for the entity\n",
        "    query = f\"\"\"\n",
        "        ASK WHERE {{\n",
        "            {entity_uri} ?p ?o .\n",
        "        }}\n",
        "    \"\"\"\n",
        "\n",
        "    sparql.setQuery(query)\n",
        "    sparql.setReturnFormat(\"json\")\n",
        "\n",
        "    # Execute the query and check the result\n",
        "    try:\n",
        "      result = sparql.query().convert()\n",
        "    except: return False\n",
        "\n",
        "    return result['boolean']\n",
        "\n",
        "#for each row of the dataset are added (3 + # of genres + # of subgenres + # of descriptors) triples\n",
        "def addTriples(graph, album_uri, album, artist, date, genres, subgenres, descriptors):\n",
        "  graph.add((album_uri, dbp.artist, artist))\n",
        "  graph.add((album_uri, RDFS.label, Literal(album, lang = 'en')))\n",
        "  graph.add((album_uri, dbp.released, Literal(date, datatype = XSD.date)))\n",
        "\n",
        "  genres_uris = []\n",
        "  for genre in genres:\n",
        "      if check_entity_presence(f'dbr:{genre}'):\n",
        "        graph.add((album_uri, dbp.genre, dbr[genre]))\n",
        "        graph.add((dbr[genre], RDF.type, ex.Genre))\n",
        "        genres_uris.append((genre, 'dbr'))\n",
        "      else:\n",
        "        graph.add((album_uri, dbp.genre, ex[genre]))\n",
        "        graph.add((ex[genre], RDF.type, ex.Genre))\n",
        "        genres_uris.append((genre, 'ex'))\n",
        "\n",
        "  for subgenre in subgenres:\n",
        "      if check_entity_presence(f'dbr:{subgenre}'):\n",
        "        graph.add((dbr[subgenre], RDF.type, ex.Subgenre))\n",
        "        for genre, namespace in genres_uris:\n",
        "          if namespace == 'dbr': graph.add((dbr[subgenre], dbo.MusicSubgenre, dbr[genre]))\n",
        "          else: graph.add((dbr[subgenre], dbo.MusicSubgenre, ex[genre]))\n",
        "      else:\n",
        "        graph.add((ex[subgenre], RDF.type, ex.Subgenre))\n",
        "        for genre, namespace in genres_uris:\n",
        "          if namespace == 'dbr': graph.add((ex[subgenre], dbo.MusicSubgenre, dbr[genre]))\n",
        "          else: graph.add((ex[subgenre], dbo.MusicSubgenre, ex[genre]))\n",
        "\n",
        "  for descriptor in descriptors:\n",
        "    graph.add((album_uri, ex.descriptor, ex[descriptor]))\n",
        "\n"
      ]
    },
    {
      "cell_type": "code",
      "execution_count": null,
      "metadata": {
        "id": "SgPoZXi8QcIU"
      },
      "outputs": [],
      "source": [
        "artists_dbr = []\n",
        "\n",
        "for i in range(min([NUMBER_OF_ALBUMS, final_df.shape[0]])):\n",
        "  row = final_df.loc[i]\n",
        "  album = row['Album']\n",
        "  artist = row['Artist']\n",
        "  date = row['Release_Date']\n",
        "  genres = row['Genres']\n",
        "  subgenres = row['Subgenre']\n",
        "  descriptors = row['Descriptors']\n",
        "\n",
        "  if check_entity_presence(f'dbr:{album}'):\n",
        "    album_uri = dbr[album]\n",
        "  else: album_uri = ex[album]\n",
        "\n",
        "  if check_entity_presence(f'dbr:{artist}'):\n",
        "    artists_dbr.append(artist)\n",
        "    artist = dbr[artist]\n",
        "  else: artist = ex[artist]\n",
        "\n",
        "  addTriples(graph, album_uri, album, artist, date, genres, subgenres, descriptors)"
      ]
    },
    {
      "cell_type": "code",
      "execution_count": null,
      "metadata": {
        "colab": {
          "base_uri": "https://localhost:8080/"
        },
        "id": "awEw6ylqdidf",
        "outputId": "a2b1ada8-3ffe-4a5a-86bf-bcf4d6a9d7ad"
      },
      "outputs": [
        {
          "name": "stdout",
          "output_type": "stream",
          "text": [
            "67715\n"
          ]
        }
      ],
      "source": [
        "print(len(graph))"
      ]
    },
    {
      "cell_type": "code",
      "execution_count": null,
      "metadata": {
        "colab": {
          "base_uri": "https://localhost:8080/"
        },
        "id": "b-7A2I7CkxxD",
        "outputId": "e7956a65-0870-43a9-9888-c2e3eb1c4232"
      },
      "outputs": [
        {
          "name": "stdout",
          "output_type": "stream",
          "text": [
            "4141\n"
          ]
        }
      ],
      "source": [
        "print(len(artists_dbr))"
      ]
    },
    {
      "cell_type": "code",
      "execution_count": null,
      "metadata": {
        "colab": {
          "base_uri": "https://localhost:8080/"
        },
        "id": "YmJJgrFZ6LYj",
        "outputId": "aa9946ff-eecb-41b0-c59e-0e1d77fe8029"
      },
      "outputs": [
        {
          "data": {
            "text/plain": [
              "<Graph identifier=N39042d4d8d3f48e8a5333f2cb5cdaa92 (<class 'rdflib.graph.Graph'>)>"
            ]
          },
          "execution_count": 33,
          "metadata": {},
          "output_type": "execute_result"
        }
      ],
      "source": [
        "# Saving the first partial result, the commented line is used to save it also in the drive\n",
        "graph.serialize(destination=\"./data/first_triples.ttl\")\n",
        "#graph.serialize(destination=\"./drive/MyDrive/MusicGraph/first_triples.ttl\")"
      ]
    },
    {
      "attachments": {},
      "cell_type": "markdown",
      "metadata": {
        "id": "kk_HJpB38y9l"
      },
      "source": [
        "Implementing informations about the artists\n"
      ]
    },
    {
      "cell_type": "code",
      "execution_count": null,
      "metadata": {
        "id": "RIy1G9Hq8ONh"
      },
      "outputs": [],
      "source": [
        "# Uncomment this block of code if you want to load the knowledge graph without executing the previous code\n",
        "# (make sure the file is in the correct folder)\n",
        "#graph = Graph()\n",
        "#graph.parse(source = \"./data/first_triples.ttl\")"
      ]
    },
    {
      "cell_type": "code",
      "execution_count": null,
      "metadata": {
        "id": "q0R_2UDi9Eh8"
      },
      "outputs": [],
      "source": [
        "# returns true if the artist is a dbo:Band\n",
        "def isBand(artist):\n",
        "  sparql = SPARQLWrapper(\"http://dbpedia.org/sparql\")\n",
        "\n",
        "  query = f\"\"\"\n",
        "      ASK WHERE {{\n",
        "          dbr:{artist} rdf:type dbo:Band .\n",
        "      }}\n",
        "  \"\"\"\n",
        "\n",
        "  sparql.setQuery(query)\n",
        "  sparql.setReturnFormat(\"json\")\n",
        "\n",
        "  try:\n",
        "    result = sparql.query().convert()\n",
        "  except: return False\n",
        "\n",
        "  return result['boolean']\n",
        "\n",
        "#returns the uris of the members of the band\n",
        "def getMembers(band):\n",
        "  sparql = SPARQLWrapper(\"http://dbpedia.org/sparql\")\n",
        "\n",
        "  query = f\"\"\"\n",
        "      SELECT ?x WHERE {{\n",
        "          dbr:{band} dbo:bandMember|dbo:formerBandMember ?x .\n",
        "      }}\n",
        "  \"\"\"\n",
        "\n",
        "  sparql.setQuery(query)\n",
        "  sparql.setReturnFormat(\"json\")\n",
        "\n",
        "  try:\n",
        "    result = sparql.query().convert()\n",
        "  except: return []\n",
        "\n",
        "  return [i['x']['value'] for i in result['results']['bindings']]\n",
        "\n",
        "# returns the birthplace and the coutry of birth of an artist\n",
        "def getBirthPlace(bandMember):\n",
        "  sparql = SPARQLWrapper(\"http://dbpedia.org/sparql\")\n",
        "\n",
        "  query = f\"\"\"\n",
        "      SELECT ?x ?y WHERE {{\n",
        "          dbr:{bandMember} dbo:birthPlace ?x .\n",
        "          OPTIONAL {{ ?x dbo:country ?y . }}\n",
        "      }}\n",
        "  \"\"\"\n",
        "\n",
        "  sparql.setQuery(query)\n",
        "  sparql.setReturnFormat(\"csv\")\n",
        "\n",
        "  try:\n",
        "    result = sparql.query().convert()\n",
        "  except:\n",
        "    return []\n",
        "\n",
        "  return result.decode()\n",
        "\n",
        "# returns the founding city and the founding country of the band\n",
        "def getFoundingCity(band):\n",
        "  sparql = SPARQLWrapper(\"http://dbpedia.org/sparql\")\n",
        "\n",
        "  query = f\"\"\"\n",
        "      SELECT DISTINCT ?x ?y WHERE {{\n",
        "          dbr:{band} dbo:hometown ?x .\n",
        "          OPTIONAL {{ ?x dbo:country ?y .}}\n",
        "      }}\n",
        "  \"\"\"\n",
        "\n",
        "  sparql.setQuery(query)\n",
        "  sparql.setReturnFormat(\"json\")\n",
        "\n",
        "  try:\n",
        "    result = sparql.query().convert()['results']['bindings'][0]\n",
        "  except:\n",
        "    return []\n",
        "\n",
        "  return [result[i]['value'] for i in result]"
      ]
    },
    {
      "cell_type": "code",
      "execution_count": null,
      "metadata": {
        "colab": {
          "base_uri": "https://localhost:8080/"
        },
        "id": "O5nA1s2IGpdj",
        "outputId": "8360c93a-41b2-470c-a48b-45ed99413f31"
      },
      "outputs": [
        {
          "name": "stdout",
          "output_type": "stream",
          "text": [
            "2104 unique artists out of all the artists saved\n"
          ]
        }
      ],
      "source": [
        "# remove duplicate artists\n",
        "artists_unique = set(artists_dbr)\n",
        "print(f'{len(artists_unique)} unique artists out of all the artists saved')"
      ]
    },
    {
      "cell_type": "code",
      "execution_count": null,
      "metadata": {
        "id": "qJ9TYHIt8264"
      },
      "outputs": [],
      "source": [
        "# Iterating through the artists found in DBPedia and looking for the bands in order to add information about them\n",
        "for artist in artists_unique:\n",
        "  if isBand(artist):\n",
        "    founding = getFoundingCity(artist)\n",
        "    graph.add((dbr[artist], RDF.type, dbo.Band))\n",
        "    if len(founding) == 2:\n",
        "      graph.add((dbr[artist], ex.foundingCity, URIRef(founding[0])))\n",
        "      graph.add((dbr[artist], ex.foundingCountry, URIRef(founding[1])))\n",
        "    elif len(founding) == 1:\n",
        "      graph.add((dbr[artist], ex.foundingCity, URIRef(founding[0])))\n",
        "    members = getMembers(artist)\n",
        "    if len(members) > 0:\n",
        "        for member in members:\n",
        "          member_uri = URIRef(member)\n",
        "          birthPlace = getBirthPlace(member)\n",
        "          graph.add((dbr[artist], dbo.bandMember, member_uri))\n",
        "          if len(birthPlace) == 2:\n",
        "            graph.add((member_uri, dbo.birthPlace, URIRef(birthPlace[0])))\n",
        "            graph.add((member_uri, ex.birthCountry, URIRef(birthPlace[1])))\n",
        "          elif len(birthPlace) == 1:\n",
        "            graph.add((member_uri, dbo.birthPlace, URIRef(birthPlace[0])))\n"
      ]
    },
    {
      "cell_type": "code",
      "execution_count": null,
      "metadata": {
        "colab": {
          "base_uri": "https://localhost:8080/"
        },
        "id": "6_cdtQoFDXbd",
        "outputId": "eb837658-f8f5-4c1b-8208-f52e8c8806cc"
      },
      "outputs": [
        {
          "name": "stdout",
          "output_type": "stream",
          "text": [
            "72778\n"
          ]
        }
      ],
      "source": [
        "print(len(graph))"
      ]
    },
    {
      "cell_type": "code",
      "execution_count": null,
      "metadata": {
        "colab": {
          "base_uri": "https://localhost:8080/"
        },
        "id": "x6STPpQTHCjF",
        "outputId": "a4295886-4fb8-41e7-da28-e325441108be"
      },
      "outputs": [
        {
          "data": {
            "text/plain": [
              "<Graph identifier=N39042d4d8d3f48e8a5333f2cb5cdaa92 (<class 'rdflib.graph.Graph'>)>"
            ]
          },
          "execution_count": 44,
          "metadata": {},
          "output_type": "execute_result"
        }
      ],
      "source": [
        "# Saving the second partial result, the commented line is used to save it also in the drive\n",
        "graph.serialize(destination=\"./data/second_stage_triples.ttl\")\n",
        "#graph.serialize(destination=\"./drive/MyDrive/MusicGraph/triples_with_members.ttl\")"
      ]
    },
    {
      "attachments": {},
      "cell_type": "markdown",
      "metadata": {
        "id": "KUT11Ht_n3fC"
      },
      "source": [
        "Integrating wikipedia's data"
      ]
    },
    {
      "cell_type": "code",
      "execution_count": null,
      "metadata": {
        "id": "aeVn_G1B8jGI"
      },
      "outputs": [],
      "source": [
        "# Uncomment this block of code if you want to load the knowledge graph without executing the previous code\n",
        "# (make sure the file is in the correct foldet)\n",
        "#graph = Graph()\n",
        "#graph.parse(source = \"./data/triples_with_members.ttl\")"
      ]
    },
    {
      "cell_type": "code",
      "execution_count": null,
      "metadata": {
        "id": "wAmbuJmSojWv"
      },
      "outputs": [],
      "source": [
        "import wikipediaapi"
      ]
    },
    {
      "cell_type": "code",
      "execution_count": null,
      "metadata": {
        "id": "RCgYbHToYXHx"
      },
      "outputs": [],
      "source": [
        "# returns the wikipedia url of artist_uri\n",
        "def queryWikiPage(artist_uri):\n",
        "  sparql = SPARQLWrapper(\"http://dbpedia.org/sparql\")\n",
        "  query = f\"\"\"\n",
        "      SELECT ?url WHERE {{\n",
        "          dbr:{artist_uri.split('/')[-1]} foaf:isPrimaryTopicOf ?url\n",
        "      }}\n",
        "  \"\"\"\n",
        "  sparql.setQuery(query)\n",
        "  sparql.setReturnFormat(\"json\")\n",
        "  try:\n",
        "    result = sparql.query().convert()['results']['bindings'][0]['url']['value']\n",
        "  except:\n",
        "    query = f\"\"\"\n",
        "      SELECT ?url WHERE {{\n",
        "          dbr:{artist_uri.split('/')[-1]} foaf:primaryTopic ?url\n",
        "      }}\n",
        "    \"\"\"\n",
        "    sparql.setQuery(query)\n",
        "    sparql.setReturnFormat(\"json\")\n",
        "    try:\n",
        "      result = sparql.query().convert()['results']['bindings'][0]['url']['value']\n",
        "    except:\n",
        "      return None\n",
        "  return result"
      ]
    },
    {
      "cell_type": "code",
      "execution_count": null,
      "metadata": {
        "id": "Yvf3EKE7qLCv"
      },
      "outputs": [],
      "source": [
        "# Not working due to openai billing policy\n",
        "import openai\n",
        "openai_key = ''\n",
        "openai.api_key = openai_key\n",
        "\n",
        "def getRoles(artist_uri):\n",
        "  artist_name = str(artist_uri)[:-4].split('/')[-1]\n",
        "  wiki_wiki = wikipediaapi.Wikipedia('MusicGraph by Francesco_Casone', 'en')\n",
        "  summary = ' '.join(wiki_wiki.page(artist_name).summary.split('.')[:2])\n",
        "\n",
        "  response = openai.Completion.create(\n",
        "    model=\"gpt-3.5-turbo-0613\",\n",
        "    prompt=f\"{summary} .Given this paragraph, what is the role of {artist_name} in his band? Express the answer as a list of comma separated single words\"\n",
        "  )\n",
        "  return response[\"choices\"][0][\"message\"]\n",
        "\n",
        "# return the keywords found in artist_uri's summary of wikipedia\n",
        "def getRoleByKeywords(artist_uri):\n",
        "  wiki_api = wikipediaapi.Wikipedia('MusicGraph by Francesco_Casone', 'en')\n",
        "  artist_name = str(artist_uri)[:-4].split('/')[-1]\n",
        "  keywords = ['drummer', 'singer', 'guitarist', 'musician', 'disc jockey', 'dj', 'producer', 'songwriter']\n",
        "  summary = ''\n",
        "\n",
        "  if len(wiki_api.page(artist_name).summary) > 0:\n",
        "    summary = wiki_api.page(artist_name).summary\n",
        "  else:\n",
        "    wiki_page = queryWikiPage(artist_uri)\n",
        "    print(wiki_page)\n",
        "    if wiki_page:\n",
        "      wiki_page = wiki_page.split('/')[-1]\n",
        "      summary = wiki_api.page(wiki_page).summary\n",
        "\n",
        "  if len(summary) > 0:\n",
        "    for word in keywords:\n",
        "      if word in summary.lower():\n",
        "        graph.add((artist_uri, ex.hasRole, ex[word.replace(' ', '_')]))\n"
      ]
    },
    {
      "cell_type": "code",
      "execution_count": null,
      "metadata": {
        "id": "xXyJmU2fWeQy"
      },
      "outputs": [],
      "source": [
        "#get all the band members in the graph\n",
        "def getAllMembers():\n",
        "  query = f\"\"\"\n",
        "      SELECT DISTINCT ?member WHERE {{\n",
        "          {{?x a dbo:Band .\n",
        "          ?x dbo:bandMember ?member .}}\n",
        "            UNION\n",
        "          {{?x a dbo:Band .\n",
        "          ?x dbo:formerBandMember ?member .}}\n",
        "      }}\n",
        "  \"\"\"\n",
        "  result = [row.member for row in graph.query(query)]\n",
        "  return result"
      ]
    },
    {
      "cell_type": "code",
      "execution_count": null,
      "metadata": {
        "id": "tqyzDM1qV9JH"
      },
      "outputs": [],
      "source": [
        "# Iterating through all the band members in the graph to add the keywords found  in wikipedia about them\n",
        "members = getAllMembers()\n",
        "print(len(members))\n",
        "for member in members:\n",
        "  try:\n",
        "    getRoleByKeywords(member)\n",
        "  except: pass"
      ]
    },
    {
      "cell_type": "code",
      "execution_count": null,
      "metadata": {
        "colab": {
          "base_uri": "https://localhost:8080/"
        },
        "id": "7I49t1qDrMBb",
        "outputId": "d966cee5-78b1-48a5-b241-94d2fd9144c3"
      },
      "outputs": [
        {
          "data": {
            "text/plain": [
              "76365"
            ]
          },
          "execution_count": 68,
          "metadata": {},
          "output_type": "execute_result"
        }
      ],
      "source": [
        "len(graph)"
      ]
    },
    {
      "cell_type": "code",
      "execution_count": 21,
      "metadata": {
        "colab": {
          "base_uri": "https://localhost:8080/"
        },
        "id": "pCW6BuRu_24J",
        "outputId": "01465b1f-9566-4473-dfa0-22711b013cfc"
      },
      "outputs": [
        {
          "data": {
            "text/plain": [
              "<Graph identifier=N53ddcce1dd57456bb645615461ec081a (<class 'rdflib.graph.Graph'>)>"
            ]
          },
          "execution_count": 21,
          "metadata": {},
          "output_type": "execute_result"
        }
      ],
      "source": [
        "# Saving the third partial result, the commented line is used to save it also in the drive\n",
        "graph.serialize(destination=\"./data/graph_with_roles.ttl\")\n",
        "#graph.serialize(destination=\"./drive/MyDrive/MusicGraph/graph_with_roles.ttl\")"
      ]
    },
    {
      "attachments": {},
      "cell_type": "markdown",
      "metadata": {
        "id": "yJqFk57SB_R3"
      },
      "source": [
        "Ontology\n"
      ]
    },
    {
      "cell_type": "code",
      "execution_count": 23,
      "metadata": {
        "colab": {
          "base_uri": "https://localhost:8080/"
        },
        "id": "wVsBF4SdALid",
        "outputId": "4db7180b-6f5f-43db-850e-5e38abe42605"
      },
      "outputs": [
        {
          "data": {
            "text/plain": [
              "<Graph identifier=N53ddcce1dd57456bb645615461ec081a (<class 'rdflib.graph.Graph'>)>"
            ]
          },
          "execution_count": 23,
          "metadata": {},
          "output_type": "execute_result"
        }
      ],
      "source": [
        "# adding classes using the example domain\n",
        "graph.add((ex.Genre, RDF.type, OWL.Class))\n",
        "graph.add((ex.SubGenre, RDF.type, OWL.Class))\n",
        "graph.add((ex.Descriptor, RDF.type, OWL.Class))\n",
        "graph.add((ex.Artist, RDF.type, OWL.Class))\n",
        "graph.add((ex.MusicAlbum, RDF.type, OWL.Class))\n",
        "graph.add((ex.Person, RDF.type, OWL.Class))\n",
        "graph.add((ex.Band, RDF.type, OWL.Class))\n",
        "graph.add((ex.City, RDF.type, OWL.Class))\n",
        "graph.add((ex.Country, RDF.type, OWL.Class))\n",
        "graph.add((ex.BandRole, RDF.type, OWL.Class))\n",
        "graph.add((ex.BandMember, RDF.type, OWL.Class))\n",
        "\n",
        "\n",
        "graph.add((ex.Band, RDFS.subClassOf, ex.Artist))\n",
        "graph.add((ex.BandMember, RDFS.subClassOf, ex.Artist))\n",
        "graph.add((ex.Artist, RDFS.subClassOf, ex.Person))\n",
        "graph.add((ex.Subgenre, RDFS.subClassOf, ex.Genre))\n",
        "\n",
        "# adding domains and ranges for every property\n",
        "graph.add((dbp.artist, RDFS.domain, ex.MuisicAlbum))\n",
        "graph.add((dbp.artist, RDFS.range, ex.Artist))\n",
        "\n",
        "graph.add((dbp.released, RDFS.domain, ex.MuisicAlbum))\n",
        "\n",
        "graph.add((dbp.genre, RDFS.domain, ex.MuisicAlbum))\n",
        "graph.add((dbp.genre, RDFS.range, ex.Genre))\n",
        "\n",
        "graph.add((dbo.MusicSubgenre, RDFS.domain, ex.Subgenre))\n",
        "graph.add((dbo.MusicSubgenre, RDFS.range, ex.Genre))\n",
        "\n",
        "graph.add((ex.descriptor, RDFS.domain, ex.MuisicAlbum))\n",
        "graph.add((ex.descriptor, RDFS.range, ex.Descriptor))\n",
        "\n",
        "graph.add((ex.foundingCity, RDFS.domain, ex.Band))\n",
        "graph.add((ex.foundingCity, RDFS.range, ex.City))\n",
        "\n",
        "graph.add((ex.foundingCountry, RDFS.domain, ex.Band))\n",
        "graph.add((ex.foundingCountry, RDFS.range, ex.Country))\n",
        "\n",
        "graph.add((dbo.bandMember, RDFS.domain, ex.Band))\n",
        "graph.add((dbo.bandMember, RDFS.range, ex.BandMember))\n",
        "\n",
        "graph.add((ex.hasRole, RDFS.domain, ex.BandMember))\n",
        "graph.add((ex.hasRole, RDFS.range, ex.BandRole))\n",
        "\n",
        "graph.add((dbo.birthPlace, RDFS.domain, ex.Artist))\n",
        "graph.add((dbo.birthplace, RDFS.range, ex.City))\n",
        "\n",
        "graph.add((dbo.birthCountry, RDFS.domain, ex.Artist))\n",
        "graph.add((dbo.birthCountry, RDFS.range, ex.Country))\n"
      ]
    },
    {
      "cell_type": "code",
      "execution_count": 24,
      "metadata": {
        "colab": {
          "base_uri": "https://localhost:8080/"
        },
        "id": "Y6obXeMvCWFM",
        "outputId": "374848ca-eb09-452d-a40c-c09ad68b7a5f"
      },
      "outputs": [
        {
          "data": {
            "text/plain": [
              "76401"
            ]
          },
          "execution_count": 24,
          "metadata": {},
          "output_type": "execute_result"
        }
      ],
      "source": [
        "len(graph)"
      ]
    },
    {
      "cell_type": "code",
      "execution_count": 25,
      "metadata": {
        "colab": {
          "base_uri": "https://localhost:8080/"
        },
        "id": "jmZQdqbaC0Lz",
        "outputId": "6b2c503e-2cb6-46d7-9f32-c4d87fe0a101"
      },
      "outputs": [
        {
          "name": "stdout",
          "output_type": "stream",
          "text": [
            "114140\n"
          ]
        }
      ],
      "source": [
        "# Materializing the inferences produced by the ontology, it is currently using the RDFS semantics\n",
        "import owlrl\n",
        "owlrl.DeductiveClosure(owlrl.RDFS_Semantics).expand(graph)\n",
        "print(len(graph))"
      ]
    },
    {
      "cell_type": "code",
      "execution_count": 27,
      "metadata": {
        "colab": {
          "base_uri": "https://localhost:8080/"
        },
        "id": "a48BJm0M8ZxU",
        "outputId": "4622ad7f-dcc4-4dee-9b0f-d6cb24428238"
      },
      "outputs": [
        {
          "data": {
            "text/plain": [
              "<Graph identifier=N53ddcce1dd57456bb645615461ec081a (<class 'rdflib.graph.Graph'>)>"
            ]
          },
          "execution_count": 27,
          "metadata": {},
          "output_type": "execute_result"
        }
      ],
      "source": [
        "# Saving the final result, the commented line is used to save it also in the drive\n",
        "graph.serialize(destination=\"./data/graph_after_closure.ttl\")\n",
        "#graph.serialize(destination=\"./drive/MyDrive/MusicGraph/graph_after_closure.ttl\")"
      ]
    },
    {
      "attachments": {},
      "cell_type": "markdown",
      "metadata": {
        "id": "zDVMY5SHyEYm"
      },
      "source": [
        "Querying the graph"
      ]
    },
    {
      "cell_type": "code",
      "execution_count": 54,
      "metadata": {
        "colab": {
          "base_uri": "https://localhost:8080/"
        },
        "id": "l4pa3obVg38S",
        "outputId": "ba7447ed-316e-4d38-9f07-ebe5b8db7f8f"
      },
      "outputs": [
        {
          "data": {
            "text/plain": [
              "<Graph identifier=N331248ed767643bd803a8d62d867a32e (<class 'rdflib.graph.Graph'>)>"
            ]
          },
          "execution_count": 54,
          "metadata": {},
          "output_type": "execute_result"
        }
      ],
      "source": [
        "# Uncomment this block of code if you want to load the graph without executing the previous code\n",
        "# (make sure the file is in the correct folder)\n",
        "#graph = Graph()\n",
        "#graph.parse(source = \"./data/graph_after_closure.ttl\")"
      ]
    },
    {
      "cell_type": "code",
      "execution_count": null,
      "metadata": {
        "colab": {
          "base_uri": "https://localhost:8080/"
        },
        "id": "u6uTX-RS9cRe",
        "outputId": "e0b1e4c1-5561-48df-f7ed-a380de7b53f4"
      },
      "outputs": [
        {
          "data": {
            "text/plain": [
              "0                 Austria\n",
              "1                 Hungary\n",
              "2                  Israel\n",
              "3             New_Zealand\n",
              "4                  Russia\n",
              "5                Scotland\n",
              "6                 Senegal\n",
              "7                  Serbia\n",
              "8       South_Lanarkshire\n",
              "9             Switzerland\n",
              "10                Denmark\n",
              "11                Jamaica\n",
              "12                 Mexico\n",
              "13                  Spain\n",
              "14                 Canada\n",
              "15                 Greece\n",
              "16            Netherlands\n",
              "17               Portugal\n",
              "18                  Chile\n",
              "19    Republic_of_Ireland\n",
              "20              Argentina\n",
              "21                 Brazil\n",
              "22                 Norway\n",
              "23                 France\n",
              "24                Germany\n",
              "25                 Poland\n",
              "26                Germany\n",
              "27                  Japan\n",
              "28              Australia\n",
              "29                  Italy\n",
              "30                Finland\n",
              "31                 Sweden\n",
              "32         United_Kingdom\n",
              "33          United_States\n",
              "dtype: object"
            ]
          },
          "execution_count": 57,
          "metadata": {},
          "output_type": "execute_result"
        }
      ],
      "source": [
        "# Looking for all the countries present in the dataset\n",
        "query = f\"\"\"\n",
        "    SELECT ?country WHERE {{\n",
        "        ?country a  ex:Country\n",
        "    }}\n",
        "\"\"\"\n",
        "\n",
        "result = graph.query(query)\n",
        "countries = [row.country.split('/')[-1] for row in result]\n",
        "countries_series = pd.Series(countries)\n",
        "countries_series  # wanna add the number of bands for each country"
      ]
    },
    {
      "cell_type": "code",
      "execution_count": null,
      "metadata": {
        "colab": {
          "base_uri": "https://localhost:8080/",
          "height": 423
        },
        "id": "wP7UjvM1v3tZ",
        "outputId": "0f17e8cc-0147-49a4-d131-22b1e0125191"
      },
      "outputs": [
        {
          "data": {
            "text/html": [
              "\n",
              "  <div id=\"df-cc476f00-9080-4b97-bcc3-3c0a5569efa9\">\n",
              "    <div class=\"colab-df-container\">\n",
              "      <div>\n",
              "<style scoped>\n",
              "    .dataframe tbody tr th:only-of-type {\n",
              "        vertical-align: middle;\n",
              "    }\n",
              "\n",
              "    .dataframe tbody tr th {\n",
              "        vertical-align: top;\n",
              "    }\n",
              "\n",
              "    .dataframe thead th {\n",
              "        text-align: right;\n",
              "    }\n",
              "</style>\n",
              "<table border=\"1\" class=\"dataframe\">\n",
              "  <thead>\n",
              "    <tr style=\"text-align: right;\">\n",
              "      <th></th>\n",
              "      <th>Year</th>\n",
              "      <th>Number of albums</th>\n",
              "    </tr>\n",
              "  </thead>\n",
              "  <tbody>\n",
              "    <tr>\n",
              "      <th>0</th>\n",
              "      <td>1971</td>\n",
              "      <td>160</td>\n",
              "    </tr>\n",
              "    <tr>\n",
              "      <th>1</th>\n",
              "      <td>1973</td>\n",
              "      <td>159</td>\n",
              "    </tr>\n",
              "    <tr>\n",
              "      <th>2</th>\n",
              "      <td>1972</td>\n",
              "      <td>153</td>\n",
              "    </tr>\n",
              "    <tr>\n",
              "      <th>3</th>\n",
              "      <td>1970</td>\n",
              "      <td>148</td>\n",
              "    </tr>\n",
              "    <tr>\n",
              "      <th>4</th>\n",
              "      <td>1994</td>\n",
              "      <td>140</td>\n",
              "    </tr>\n",
              "    <tr>\n",
              "      <th>...</th>\n",
              "      <td>...</td>\n",
              "      <td>...</td>\n",
              "    </tr>\n",
              "    <tr>\n",
              "      <th>67</th>\n",
              "      <td>1954</td>\n",
              "      <td>6</td>\n",
              "    </tr>\n",
              "    <tr>\n",
              "      <th>68</th>\n",
              "      <td>1953</td>\n",
              "      <td>2</td>\n",
              "    </tr>\n",
              "    <tr>\n",
              "      <th>69</th>\n",
              "      <td>1952</td>\n",
              "      <td>1</td>\n",
              "    </tr>\n",
              "    <tr>\n",
              "      <th>70</th>\n",
              "      <td>1947</td>\n",
              "      <td>1</td>\n",
              "    </tr>\n",
              "    <tr>\n",
              "      <th>71</th>\n",
              "      <td>1951</td>\n",
              "      <td>1</td>\n",
              "    </tr>\n",
              "  </tbody>\n",
              "</table>\n",
              "<p>72 rows × 2 columns</p>\n",
              "</div>\n",
              "      <button class=\"colab-df-convert\" onclick=\"convertToInteractive('df-cc476f00-9080-4b97-bcc3-3c0a5569efa9')\"\n",
              "              title=\"Convert this dataframe to an interactive table.\"\n",
              "              style=\"display:none;\">\n",
              "        \n",
              "  <svg xmlns=\"http://www.w3.org/2000/svg\" height=\"24px\"viewBox=\"0 0 24 24\"\n",
              "       width=\"24px\">\n",
              "    <path d=\"M0 0h24v24H0V0z\" fill=\"none\"/>\n",
              "    <path d=\"M18.56 5.44l.94 2.06.94-2.06 2.06-.94-2.06-.94-.94-2.06-.94 2.06-2.06.94zm-11 1L8.5 8.5l.94-2.06 2.06-.94-2.06-.94L8.5 2.5l-.94 2.06-2.06.94zm10 10l.94 2.06.94-2.06 2.06-.94-2.06-.94-.94-2.06-.94 2.06-2.06.94z\"/><path d=\"M17.41 7.96l-1.37-1.37c-.4-.4-.92-.59-1.43-.59-.52 0-1.04.2-1.43.59L10.3 9.45l-7.72 7.72c-.78.78-.78 2.05 0 2.83L4 21.41c.39.39.9.59 1.41.59.51 0 1.02-.2 1.41-.59l7.78-7.78 2.81-2.81c.8-.78.8-2.07 0-2.86zM5.41 20L4 18.59l7.72-7.72 1.47 1.35L5.41 20z\"/>\n",
              "  </svg>\n",
              "      </button>\n",
              "      \n",
              "  <style>\n",
              "    .colab-df-container {\n",
              "      display:flex;\n",
              "      flex-wrap:wrap;\n",
              "      gap: 12px;\n",
              "    }\n",
              "\n",
              "    .colab-df-convert {\n",
              "      background-color: #E8F0FE;\n",
              "      border: none;\n",
              "      border-radius: 50%;\n",
              "      cursor: pointer;\n",
              "      display: none;\n",
              "      fill: #1967D2;\n",
              "      height: 32px;\n",
              "      padding: 0 0 0 0;\n",
              "      width: 32px;\n",
              "    }\n",
              "\n",
              "    .colab-df-convert:hover {\n",
              "      background-color: #E2EBFA;\n",
              "      box-shadow: 0px 1px 2px rgba(60, 64, 67, 0.3), 0px 1px 3px 1px rgba(60, 64, 67, 0.15);\n",
              "      fill: #174EA6;\n",
              "    }\n",
              "\n",
              "    [theme=dark] .colab-df-convert {\n",
              "      background-color: #3B4455;\n",
              "      fill: #D2E3FC;\n",
              "    }\n",
              "\n",
              "    [theme=dark] .colab-df-convert:hover {\n",
              "      background-color: #434B5C;\n",
              "      box-shadow: 0px 1px 3px 1px rgba(0, 0, 0, 0.15);\n",
              "      filter: drop-shadow(0px 1px 2px rgba(0, 0, 0, 0.3));\n",
              "      fill: #FFFFFF;\n",
              "    }\n",
              "  </style>\n",
              "\n",
              "      <script>\n",
              "        const buttonEl =\n",
              "          document.querySelector('#df-cc476f00-9080-4b97-bcc3-3c0a5569efa9 button.colab-df-convert');\n",
              "        buttonEl.style.display =\n",
              "          google.colab.kernel.accessAllowed ? 'block' : 'none';\n",
              "\n",
              "        async function convertToInteractive(key) {\n",
              "          const element = document.querySelector('#df-cc476f00-9080-4b97-bcc3-3c0a5569efa9');\n",
              "          const dataTable =\n",
              "            await google.colab.kernel.invokeFunction('convertToInteractive',\n",
              "                                                     [key], {});\n",
              "          if (!dataTable) return;\n",
              "\n",
              "          const docLinkHtml = 'Like what you see? Visit the ' +\n",
              "            '<a target=\"_blank\" href=https://colab.research.google.com/notebooks/data_table.ipynb>data table notebook</a>'\n",
              "            + ' to learn more about interactive tables.';\n",
              "          element.innerHTML = '';\n",
              "          dataTable['output_type'] = 'display_data';\n",
              "          await google.colab.output.renderOutput(dataTable, element);\n",
              "          const docLink = document.createElement('div');\n",
              "          docLink.innerHTML = docLinkHtml;\n",
              "          element.appendChild(docLink);\n",
              "        }\n",
              "      </script>\n",
              "    </div>\n",
              "  </div>\n",
              "  "
            ],
            "text/plain": [
              "    Year  Number of albums\n",
              "0   1971               160\n",
              "1   1973               159\n",
              "2   1972               153\n",
              "3   1970               148\n",
              "4   1994               140\n",
              "..   ...               ...\n",
              "67  1954                 6\n",
              "68  1953                 2\n",
              "69  1952                 1\n",
              "70  1947                 1\n",
              "71  1951                 1\n",
              "\n",
              "[72 rows x 2 columns]"
            ]
          },
          "execution_count": 58,
          "metadata": {},
          "output_type": "execute_result"
        }
      ],
      "source": [
        "# Finding the years with the most albums in the dataset\n",
        "query = f\"\"\"\n",
        "    SELECT ?year WHERE {{\n",
        "        ?album dbp:released ?year\n",
        "    }}\n",
        "\"\"\"\n",
        "\n",
        "result = graph.query(query)\n",
        "years = [row.year[:4] for row in result]\n",
        "years_set = list(set(years))\n",
        "count = []\n",
        "for year in years_set:\n",
        "  count.append(years.count(year))\n",
        "years_count_df = pd.DataFrame({ 'Year' : years_set , 'Number of albums' : count })\n",
        "years_count_df.sort_values('Number of albums', ascending = False).reset_index(drop = True)"
      ]
    },
    {
      "cell_type": "code",
      "execution_count": null,
      "metadata": {
        "colab": {
          "base_uri": "https://localhost:8080/",
          "height": 423
        },
        "id": "2HY-VsD8lbx7",
        "outputId": "c53f2e94-f008-4b43-a763-0c83599ee0f8"
      },
      "outputs": [
        {
          "data": {
            "text/html": [
              "\n",
              "  <div id=\"df-8b0fe6dd-8e62-4900-88ba-778e28944fcd\">\n",
              "    <div class=\"colab-df-container\">\n",
              "      <div>\n",
              "<style scoped>\n",
              "    .dataframe tbody tr th:only-of-type {\n",
              "        vertical-align: middle;\n",
              "    }\n",
              "\n",
              "    .dataframe tbody tr th {\n",
              "        vertical-align: top;\n",
              "    }\n",
              "\n",
              "    .dataframe thead th {\n",
              "        text-align: right;\n",
              "    }\n",
              "</style>\n",
              "<table border=\"1\" class=\"dataframe\">\n",
              "  <thead>\n",
              "    <tr style=\"text-align: right;\">\n",
              "      <th></th>\n",
              "      <th>First Genre</th>\n",
              "      <th>Second Genre</th>\n",
              "      <th>Number of albums</th>\n",
              "    </tr>\n",
              "  </thead>\n",
              "  <tbody>\n",
              "    <tr>\n",
              "      <th>0</th>\n",
              "      <td>SymphonicProg</td>\n",
              "      <td>ProgressiveRock</td>\n",
              "      <td>72</td>\n",
              "    </tr>\n",
              "    <tr>\n",
              "      <th>1</th>\n",
              "      <td>ProgressiveRock</td>\n",
              "      <td>SymphonicProg</td>\n",
              "      <td>72</td>\n",
              "    </tr>\n",
              "    <tr>\n",
              "      <th>2</th>\n",
              "      <td>BoomBap</td>\n",
              "      <td>EastCoastHipHop</td>\n",
              "      <td>66</td>\n",
              "    </tr>\n",
              "    <tr>\n",
              "      <th>3</th>\n",
              "      <td>EastCoastHipHop</td>\n",
              "      <td>BoomBap</td>\n",
              "      <td>66</td>\n",
              "    </tr>\n",
              "    <tr>\n",
              "      <th>4</th>\n",
              "      <td>Songwriter</td>\n",
              "      <td>ContemporaryFolk</td>\n",
              "      <td>61</td>\n",
              "    </tr>\n",
              "    <tr>\n",
              "      <th>...</th>\n",
              "      <td>...</td>\n",
              "      <td>...</td>\n",
              "      <td>...</td>\n",
              "    </tr>\n",
              "    <tr>\n",
              "      <th>3775</th>\n",
              "      <td>SpaceAmbient</td>\n",
              "      <td>Soundtracks</td>\n",
              "      <td>1</td>\n",
              "    </tr>\n",
              "    <tr>\n",
              "      <th>3776</th>\n",
              "      <td>IndieRock</td>\n",
              "      <td>MathRock</td>\n",
              "      <td>1</td>\n",
              "    </tr>\n",
              "    <tr>\n",
              "      <th>3777</th>\n",
              "      <td>WesternClassicalMusic</td>\n",
              "      <td>ChamberMusic</td>\n",
              "      <td>1</td>\n",
              "    </tr>\n",
              "    <tr>\n",
              "      <th>3778</th>\n",
              "      <td>Plunderphonics</td>\n",
              "      <td>Nu-Disco</td>\n",
              "      <td>1</td>\n",
              "    </tr>\n",
              "    <tr>\n",
              "      <th>3779</th>\n",
              "      <td>CinematicClassical</td>\n",
              "      <td>ChamberMusic</td>\n",
              "      <td>1</td>\n",
              "    </tr>\n",
              "  </tbody>\n",
              "</table>\n",
              "<p>3780 rows × 3 columns</p>\n",
              "</div>\n",
              "      <button class=\"colab-df-convert\" onclick=\"convertToInteractive('df-8b0fe6dd-8e62-4900-88ba-778e28944fcd')\"\n",
              "              title=\"Convert this dataframe to an interactive table.\"\n",
              "              style=\"display:none;\">\n",
              "        \n",
              "  <svg xmlns=\"http://www.w3.org/2000/svg\" height=\"24px\"viewBox=\"0 0 24 24\"\n",
              "       width=\"24px\">\n",
              "    <path d=\"M0 0h24v24H0V0z\" fill=\"none\"/>\n",
              "    <path d=\"M18.56 5.44l.94 2.06.94-2.06 2.06-.94-2.06-.94-.94-2.06-.94 2.06-2.06.94zm-11 1L8.5 8.5l.94-2.06 2.06-.94-2.06-.94L8.5 2.5l-.94 2.06-2.06.94zm10 10l.94 2.06.94-2.06 2.06-.94-2.06-.94-.94-2.06-.94 2.06-2.06.94z\"/><path d=\"M17.41 7.96l-1.37-1.37c-.4-.4-.92-.59-1.43-.59-.52 0-1.04.2-1.43.59L10.3 9.45l-7.72 7.72c-.78.78-.78 2.05 0 2.83L4 21.41c.39.39.9.59 1.41.59.51 0 1.02-.2 1.41-.59l7.78-7.78 2.81-2.81c.8-.78.8-2.07 0-2.86zM5.41 20L4 18.59l7.72-7.72 1.47 1.35L5.41 20z\"/>\n",
              "  </svg>\n",
              "      </button>\n",
              "      \n",
              "  <style>\n",
              "    .colab-df-container {\n",
              "      display:flex;\n",
              "      flex-wrap:wrap;\n",
              "      gap: 12px;\n",
              "    }\n",
              "\n",
              "    .colab-df-convert {\n",
              "      background-color: #E8F0FE;\n",
              "      border: none;\n",
              "      border-radius: 50%;\n",
              "      cursor: pointer;\n",
              "      display: none;\n",
              "      fill: #1967D2;\n",
              "      height: 32px;\n",
              "      padding: 0 0 0 0;\n",
              "      width: 32px;\n",
              "    }\n",
              "\n",
              "    .colab-df-convert:hover {\n",
              "      background-color: #E2EBFA;\n",
              "      box-shadow: 0px 1px 2px rgba(60, 64, 67, 0.3), 0px 1px 3px 1px rgba(60, 64, 67, 0.15);\n",
              "      fill: #174EA6;\n",
              "    }\n",
              "\n",
              "    [theme=dark] .colab-df-convert {\n",
              "      background-color: #3B4455;\n",
              "      fill: #D2E3FC;\n",
              "    }\n",
              "\n",
              "    [theme=dark] .colab-df-convert:hover {\n",
              "      background-color: #434B5C;\n",
              "      box-shadow: 0px 1px 3px 1px rgba(0, 0, 0, 0.15);\n",
              "      filter: drop-shadow(0px 1px 2px rgba(0, 0, 0, 0.3));\n",
              "      fill: #FFFFFF;\n",
              "    }\n",
              "  </style>\n",
              "\n",
              "      <script>\n",
              "        const buttonEl =\n",
              "          document.querySelector('#df-8b0fe6dd-8e62-4900-88ba-778e28944fcd button.colab-df-convert');\n",
              "        buttonEl.style.display =\n",
              "          google.colab.kernel.accessAllowed ? 'block' : 'none';\n",
              "\n",
              "        async function convertToInteractive(key) {\n",
              "          const element = document.querySelector('#df-8b0fe6dd-8e62-4900-88ba-778e28944fcd');\n",
              "          const dataTable =\n",
              "            await google.colab.kernel.invokeFunction('convertToInteractive',\n",
              "                                                     [key], {});\n",
              "          if (!dataTable) return;\n",
              "\n",
              "          const docLinkHtml = 'Like what you see? Visit the ' +\n",
              "            '<a target=\"_blank\" href=https://colab.research.google.com/notebooks/data_table.ipynb>data table notebook</a>'\n",
              "            + ' to learn more about interactive tables.';\n",
              "          element.innerHTML = '';\n",
              "          dataTable['output_type'] = 'display_data';\n",
              "          await google.colab.output.renderOutput(dataTable, element);\n",
              "          const docLink = document.createElement('div');\n",
              "          docLink.innerHTML = docLinkHtml;\n",
              "          element.appendChild(docLink);\n",
              "        }\n",
              "      </script>\n",
              "    </div>\n",
              "  </div>\n",
              "  "
            ],
            "text/plain": [
              "                First Genre      Second Genre  Number of albums\n",
              "0             SymphonicProg   ProgressiveRock                72\n",
              "1           ProgressiveRock     SymphonicProg                72\n",
              "2                   BoomBap   EastCoastHipHop                66\n",
              "3           EastCoastHipHop           BoomBap                66\n",
              "4                Songwriter  ContemporaryFolk                61\n",
              "...                     ...               ...               ...\n",
              "3775           SpaceAmbient       Soundtracks                 1\n",
              "3776              IndieRock          MathRock                 1\n",
              "3777  WesternClassicalMusic      ChamberMusic                 1\n",
              "3778         Plunderphonics          Nu-Disco                 1\n",
              "3779     CinematicClassical      ChamberMusic                 1\n",
              "\n",
              "[3780 rows x 3 columns]"
            ]
          },
          "execution_count": 59,
          "metadata": {},
          "output_type": "execute_result"
        }
      ],
      "source": [
        "# Looking for the genres that appear togheter more often\n",
        "query = f\"\"\"\n",
        "    SELECT ?first_genre ?second_genre WHERE {{\n",
        "        ?album dbp:genre ?first_genre .\n",
        "        ?album dbp:genre ?second_genre .\n",
        "        FILTER (?first_genre != ?second_genre) .\n",
        "    }}\n",
        "\"\"\"\n",
        "\n",
        "result = graph.query(query)\n",
        "couples = [(row.first_genre.split('/')[-1], row.second_genre.split('/')[-1]) for row in result]\n",
        "couples_set = list(set(couples))\n",
        "couples_count = []\n",
        "for couple in couples_set:\n",
        "  couples_count.append(couples.count(couple))\n",
        "coupled_genres_df = pd.DataFrame({ 'First Genre' : [couple[0] for couple in couples_set], 'Second Genre' : [couple[1] for couple in couples_set] , 'Number of albums' : couples_count })\n",
        "coupled_genres_df.sort_values('Number of albums', ascending = False).reset_index(drop = True)"
      ]
    },
    {
      "cell_type": "code",
      "execution_count": null,
      "metadata": {
        "colab": {
          "base_uri": "https://localhost:8080/",
          "height": 423
        },
        "id": "XL-sACOFzIe3",
        "outputId": "eb557769-42aa-4878-dbab-4239437ba3ae"
      },
      "outputs": [
        {
          "data": {
            "text/html": [
              "\n",
              "  <div id=\"df-5c8e4295-33da-4bd5-a50c-2eb20372467f\">\n",
              "    <div class=\"colab-df-container\">\n",
              "      <div>\n",
              "<style scoped>\n",
              "    .dataframe tbody tr th:only-of-type {\n",
              "        vertical-align: middle;\n",
              "    }\n",
              "\n",
              "    .dataframe tbody tr th {\n",
              "        vertical-align: top;\n",
              "    }\n",
              "\n",
              "    .dataframe thead th {\n",
              "        text-align: right;\n",
              "    }\n",
              "</style>\n",
              "<table border=\"1\" class=\"dataframe\">\n",
              "  <thead>\n",
              "    <tr style=\"text-align: right;\">\n",
              "      <th></th>\n",
              "      <th>City</th>\n",
              "      <th>Number of artists</th>\n",
              "    </tr>\n",
              "  </thead>\n",
              "  <tbody>\n",
              "    <tr>\n",
              "      <th>0</th>\n",
              "      <td>London</td>\n",
              "      <td>37</td>\n",
              "    </tr>\n",
              "    <tr>\n",
              "      <th>1</th>\n",
              "      <td>California</td>\n",
              "      <td>33</td>\n",
              "    </tr>\n",
              "    <tr>\n",
              "      <th>2</th>\n",
              "      <td>New York City</td>\n",
              "      <td>10</td>\n",
              "    </tr>\n",
              "    <tr>\n",
              "      <th>3</th>\n",
              "      <td>Birmingham</td>\n",
              "      <td>9</td>\n",
              "    </tr>\n",
              "    <tr>\n",
              "      <th>4</th>\n",
              "      <td>Washington (state)</td>\n",
              "      <td>8</td>\n",
              "    </tr>\n",
              "    <tr>\n",
              "      <th>...</th>\n",
              "      <td>...</td>\n",
              "      <td>...</td>\n",
              "    </tr>\n",
              "    <tr>\n",
              "      <th>353</th>\n",
              "      <td>Brooklyn, New York</td>\n",
              "      <td>1</td>\n",
              "    </tr>\n",
              "    <tr>\n",
              "      <th>354</th>\n",
              "      <td>Derry</td>\n",
              "      <td>1</td>\n",
              "    </tr>\n",
              "    <tr>\n",
              "      <th>355</th>\n",
              "      <td>East Kilbride</td>\n",
              "      <td>1</td>\n",
              "    </tr>\n",
              "    <tr>\n",
              "      <th>356</th>\n",
              "      <td>Minnesota</td>\n",
              "      <td>1</td>\n",
              "    </tr>\n",
              "    <tr>\n",
              "      <th>357</th>\n",
              "      <td>Zürich</td>\n",
              "      <td>1</td>\n",
              "    </tr>\n",
              "  </tbody>\n",
              "</table>\n",
              "<p>358 rows × 2 columns</p>\n",
              "</div>\n",
              "      <button class=\"colab-df-convert\" onclick=\"convertToInteractive('df-5c8e4295-33da-4bd5-a50c-2eb20372467f')\"\n",
              "              title=\"Convert this dataframe to an interactive table.\"\n",
              "              style=\"display:none;\">\n",
              "        \n",
              "  <svg xmlns=\"http://www.w3.org/2000/svg\" height=\"24px\"viewBox=\"0 0 24 24\"\n",
              "       width=\"24px\">\n",
              "    <path d=\"M0 0h24v24H0V0z\" fill=\"none\"/>\n",
              "    <path d=\"M18.56 5.44l.94 2.06.94-2.06 2.06-.94-2.06-.94-.94-2.06-.94 2.06-2.06.94zm-11 1L8.5 8.5l.94-2.06 2.06-.94-2.06-.94L8.5 2.5l-.94 2.06-2.06.94zm10 10l.94 2.06.94-2.06 2.06-.94-2.06-.94-.94-2.06-.94 2.06-2.06.94z\"/><path d=\"M17.41 7.96l-1.37-1.37c-.4-.4-.92-.59-1.43-.59-.52 0-1.04.2-1.43.59L10.3 9.45l-7.72 7.72c-.78.78-.78 2.05 0 2.83L4 21.41c.39.39.9.59 1.41.59.51 0 1.02-.2 1.41-.59l7.78-7.78 2.81-2.81c.8-.78.8-2.07 0-2.86zM5.41 20L4 18.59l7.72-7.72 1.47 1.35L5.41 20z\"/>\n",
              "  </svg>\n",
              "      </button>\n",
              "      \n",
              "  <style>\n",
              "    .colab-df-container {\n",
              "      display:flex;\n",
              "      flex-wrap:wrap;\n",
              "      gap: 12px;\n",
              "    }\n",
              "\n",
              "    .colab-df-convert {\n",
              "      background-color: #E8F0FE;\n",
              "      border: none;\n",
              "      border-radius: 50%;\n",
              "      cursor: pointer;\n",
              "      display: none;\n",
              "      fill: #1967D2;\n",
              "      height: 32px;\n",
              "      padding: 0 0 0 0;\n",
              "      width: 32px;\n",
              "    }\n",
              "\n",
              "    .colab-df-convert:hover {\n",
              "      background-color: #E2EBFA;\n",
              "      box-shadow: 0px 1px 2px rgba(60, 64, 67, 0.3), 0px 1px 3px 1px rgba(60, 64, 67, 0.15);\n",
              "      fill: #174EA6;\n",
              "    }\n",
              "\n",
              "    [theme=dark] .colab-df-convert {\n",
              "      background-color: #3B4455;\n",
              "      fill: #D2E3FC;\n",
              "    }\n",
              "\n",
              "    [theme=dark] .colab-df-convert:hover {\n",
              "      background-color: #434B5C;\n",
              "      box-shadow: 0px 1px 3px 1px rgba(0, 0, 0, 0.15);\n",
              "      filter: drop-shadow(0px 1px 2px rgba(0, 0, 0, 0.3));\n",
              "      fill: #FFFFFF;\n",
              "    }\n",
              "  </style>\n",
              "\n",
              "      <script>\n",
              "        const buttonEl =\n",
              "          document.querySelector('#df-5c8e4295-33da-4bd5-a50c-2eb20372467f button.colab-df-convert');\n",
              "        buttonEl.style.display =\n",
              "          google.colab.kernel.accessAllowed ? 'block' : 'none';\n",
              "\n",
              "        async function convertToInteractive(key) {\n",
              "          const element = document.querySelector('#df-5c8e4295-33da-4bd5-a50c-2eb20372467f');\n",
              "          const dataTable =\n",
              "            await google.colab.kernel.invokeFunction('convertToInteractive',\n",
              "                                                     [key], {});\n",
              "          if (!dataTable) return;\n",
              "\n",
              "          const docLinkHtml = 'Like what you see? Visit the ' +\n",
              "            '<a target=\"_blank\" href=https://colab.research.google.com/notebooks/data_table.ipynb>data table notebook</a>'\n",
              "            + ' to learn more about interactive tables.';\n",
              "          element.innerHTML = '';\n",
              "          dataTable['output_type'] = 'display_data';\n",
              "          await google.colab.output.renderOutput(dataTable, element);\n",
              "          const docLink = document.createElement('div');\n",
              "          docLink.innerHTML = docLinkHtml;\n",
              "          element.appendChild(docLink);\n",
              "        }\n",
              "      </script>\n",
              "    </div>\n",
              "  </div>\n",
              "  "
            ],
            "text/plain": [
              "                   City  Number of artists\n",
              "0                London                 37\n",
              "1            California                 33\n",
              "2         New York City                 10\n",
              "3            Birmingham                  9\n",
              "4    Washington (state)                  8\n",
              "..                  ...                ...\n",
              "353  Brooklyn, New York                  1\n",
              "354               Derry                  1\n",
              "355       East Kilbride                  1\n",
              "356           Minnesota                  1\n",
              "357              Zürich                  1\n",
              "\n",
              "[358 rows x 2 columns]"
            ]
          },
          "execution_count": 73,
          "metadata": {},
          "output_type": "execute_result"
        }
      ],
      "source": [
        "# Looking for the most influential city, the city that produces most talents in music\n",
        "query = f\"\"\"\n",
        "    SELECT ?city WHERE {{\n",
        "        ?band ex:foundingCity ?city\n",
        "    }}\n",
        "\"\"\"\n",
        "result = graph.query(query)\n",
        "cities = [row.city.split('/')[-1].replace('_', ' ') for row in result]\n",
        "cities_set = list(set(cities))\n",
        "count = []\n",
        "for city in cities_set:\n",
        "  count.append(cities.count(city))\n",
        "cities_count_df = pd.DataFrame({ 'City' : cities_set , 'Number of artists' : count })\n",
        "cities_count_df.sort_values('Number of artists', ascending = False).reset_index(drop = True)"
      ]
    },
    {
      "cell_type": "code",
      "execution_count": 47,
      "metadata": {
        "colab": {
          "base_uri": "https://localhost:8080/",
          "height": 206
        },
        "id": "pg24I0YuOE4f",
        "outputId": "8e31d774-3ecc-46a6-82b1-a0e8c78e0669"
      },
      "outputs": [
        {
          "data": {
            "text/html": [
              "\n",
              "  <div id=\"df-3ee6e409-28e0-43b2-ba33-d8f06b5fde8c\">\n",
              "    <div class=\"colab-df-container\">\n",
              "      <div>\n",
              "<style scoped>\n",
              "    .dataframe tbody tr th:only-of-type {\n",
              "        vertical-align: middle;\n",
              "    }\n",
              "\n",
              "    .dataframe tbody tr th {\n",
              "        vertical-align: top;\n",
              "    }\n",
              "\n",
              "    .dataframe thead th {\n",
              "        text-align: right;\n",
              "    }\n",
              "</style>\n",
              "<table border=\"1\" class=\"dataframe\">\n",
              "  <thead>\n",
              "    <tr style=\"text-align: right;\">\n",
              "      <th></th>\n",
              "      <th>Country</th>\n",
              "      <th>Most Common Genre</th>\n",
              "    </tr>\n",
              "  </thead>\n",
              "  <tbody>\n",
              "    <tr>\n",
              "      <th>0</th>\n",
              "      <td>Italy</td>\n",
              "      <td>ProgressiveRock</td>\n",
              "    </tr>\n",
              "    <tr>\n",
              "      <th>1</th>\n",
              "      <td>Jamaica</td>\n",
              "      <td>RootsReggae</td>\n",
              "    </tr>\n",
              "    <tr>\n",
              "      <th>2</th>\n",
              "      <td>United_States</td>\n",
              "      <td>EastCoastHipHop</td>\n",
              "    </tr>\n",
              "    <tr>\n",
              "      <th>3</th>\n",
              "      <td>United_Kingdom</td>\n",
              "      <td>ProgressiveRock</td>\n",
              "    </tr>\n",
              "    <tr>\n",
              "      <th>4</th>\n",
              "      <td>Sweden</td>\n",
              "      <td>MelodicDeathMetal</td>\n",
              "    </tr>\n",
              "  </tbody>\n",
              "</table>\n",
              "</div>\n",
              "      <button class=\"colab-df-convert\" onclick=\"convertToInteractive('df-3ee6e409-28e0-43b2-ba33-d8f06b5fde8c')\"\n",
              "              title=\"Convert this dataframe to an interactive table.\"\n",
              "              style=\"display:none;\">\n",
              "        \n",
              "  <svg xmlns=\"http://www.w3.org/2000/svg\" height=\"24px\"viewBox=\"0 0 24 24\"\n",
              "       width=\"24px\">\n",
              "    <path d=\"M0 0h24v24H0V0z\" fill=\"none\"/>\n",
              "    <path d=\"M18.56 5.44l.94 2.06.94-2.06 2.06-.94-2.06-.94-.94-2.06-.94 2.06-2.06.94zm-11 1L8.5 8.5l.94-2.06 2.06-.94-2.06-.94L8.5 2.5l-.94 2.06-2.06.94zm10 10l.94 2.06.94-2.06 2.06-.94-2.06-.94-.94-2.06-.94 2.06-2.06.94z\"/><path d=\"M17.41 7.96l-1.37-1.37c-.4-.4-.92-.59-1.43-.59-.52 0-1.04.2-1.43.59L10.3 9.45l-7.72 7.72c-.78.78-.78 2.05 0 2.83L4 21.41c.39.39.9.59 1.41.59.51 0 1.02-.2 1.41-.59l7.78-7.78 2.81-2.81c.8-.78.8-2.07 0-2.86zM5.41 20L4 18.59l7.72-7.72 1.47 1.35L5.41 20z\"/>\n",
              "  </svg>\n",
              "      </button>\n",
              "      \n",
              "  <style>\n",
              "    .colab-df-container {\n",
              "      display:flex;\n",
              "      flex-wrap:wrap;\n",
              "      gap: 12px;\n",
              "    }\n",
              "\n",
              "    .colab-df-convert {\n",
              "      background-color: #E8F0FE;\n",
              "      border: none;\n",
              "      border-radius: 50%;\n",
              "      cursor: pointer;\n",
              "      display: none;\n",
              "      fill: #1967D2;\n",
              "      height: 32px;\n",
              "      padding: 0 0 0 0;\n",
              "      width: 32px;\n",
              "    }\n",
              "\n",
              "    .colab-df-convert:hover {\n",
              "      background-color: #E2EBFA;\n",
              "      box-shadow: 0px 1px 2px rgba(60, 64, 67, 0.3), 0px 1px 3px 1px rgba(60, 64, 67, 0.15);\n",
              "      fill: #174EA6;\n",
              "    }\n",
              "\n",
              "    [theme=dark] .colab-df-convert {\n",
              "      background-color: #3B4455;\n",
              "      fill: #D2E3FC;\n",
              "    }\n",
              "\n",
              "    [theme=dark] .colab-df-convert:hover {\n",
              "      background-color: #434B5C;\n",
              "      box-shadow: 0px 1px 3px 1px rgba(0, 0, 0, 0.15);\n",
              "      filter: drop-shadow(0px 1px 2px rgba(0, 0, 0, 0.3));\n",
              "      fill: #FFFFFF;\n",
              "    }\n",
              "  </style>\n",
              "\n",
              "      <script>\n",
              "        const buttonEl =\n",
              "          document.querySelector('#df-3ee6e409-28e0-43b2-ba33-d8f06b5fde8c button.colab-df-convert');\n",
              "        buttonEl.style.display =\n",
              "          google.colab.kernel.accessAllowed ? 'block' : 'none';\n",
              "\n",
              "        async function convertToInteractive(key) {\n",
              "          const element = document.querySelector('#df-3ee6e409-28e0-43b2-ba33-d8f06b5fde8c');\n",
              "          const dataTable =\n",
              "            await google.colab.kernel.invokeFunction('convertToInteractive',\n",
              "                                                     [key], {});\n",
              "          if (!dataTable) return;\n",
              "\n",
              "          const docLinkHtml = 'Like what you see? Visit the ' +\n",
              "            '<a target=\"_blank\" href=https://colab.research.google.com/notebooks/data_table.ipynb>data table notebook</a>'\n",
              "            + ' to learn more about interactive tables.';\n",
              "          element.innerHTML = '';\n",
              "          dataTable['output_type'] = 'display_data';\n",
              "          await google.colab.output.renderOutput(dataTable, element);\n",
              "          const docLink = document.createElement('div');\n",
              "          docLink.innerHTML = docLinkHtml;\n",
              "          element.appendChild(docLink);\n",
              "        }\n",
              "      </script>\n",
              "    </div>\n",
              "  </div>\n",
              "  "
            ],
            "text/plain": [
              "          Country  Most Common Genre\n",
              "0           Italy    ProgressiveRock\n",
              "1         Jamaica        RootsReggae\n",
              "2   United_States    EastCoastHipHop\n",
              "3  United_Kingdom    ProgressiveRock\n",
              "4          Sweden  MelodicDeathMetal"
            ]
          },
          "execution_count": 47,
          "metadata": {},
          "output_type": "execute_result"
        }
      ],
      "source": [
        "# Looking for the most commmon genre in each country\n",
        "query = f\"\"\"\n",
        "    SELECT ?country ?genre WHERE {{\n",
        "        ?album dbp:genre ?genre .\n",
        "        ?album dbp:artist [a ex:Band; ex:foundingCountry ?country]\n",
        "    }}\n",
        "\"\"\"\n",
        "result = list(graph.query(query))\n",
        "res = {}\n",
        "for i in result:\n",
        "  country = i[0].split('/')[-1]\n",
        "  genre = i[1].split('/')[-1]\n",
        "  if country in res.keys():\n",
        "    res[country].append(genre)\n",
        "  else:\n",
        "    res[country] = [genre]\n",
        "\n",
        "couples = []\n",
        "for country in res:\n",
        "  most_common = max(set(res[country]), key=res[country].count)\n",
        "  couples.append((country, most_common))\n",
        "\n",
        "res = pd.DataFrame({'Country' : [i[0] for i in couples], 'Most Common Genre' : [i[1] for i in couples]})\n",
        "res.head()"
      ]
    },
    {
      "attachments": {},
      "cell_type": "markdown",
      "metadata": {
        "id": "0Kf8XbISEwhA"
      },
      "source": [
        "Personal notes:\n",
        "- I thought about adding every entity to the example domain and adding the triple (ex:entity, owl:sameAs, dbr:entity) for every entity that the program could find in the dbpedia graph. This would have led to a complete personal domain linked to the dbpedia graph (I still think that this is good and easy thing to implement), which I imagine can be useful in some scenarios. But for the sake of time and space expenses I just added to the graph the entity in the dbpedia domain where those could be found and the entity in the example domain in every other case.\n",
        "- I implemented the classes as OWL:Class even if RDFS:Class would be enough just for the purpose of scalability. I want indeed to scale it up adding more classes and more complex properties.\n"
      ]
    }
  ],
  "metadata": {
    "colab": {
      "provenance": []
    },
    "kernelspec": {
      "display_name": "Python 3",
      "name": "python3"
    },
    "language_info": {
      "name": "python"
    }
  },
  "nbformat": 4,
  "nbformat_minor": 0
}
